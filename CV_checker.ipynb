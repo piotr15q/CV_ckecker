{
 "cells": [
  {
   "cell_type": "code",
   "execution_count": 1,
   "id": "cf546217-7553-4f63-8d2f-f0d2931db676",
   "metadata": {},
   "outputs": [],
   "source": [
    "import torch\n",
    "import os\n",
    "import pymupdf\n",
    "import transformers"
   ]
  },
  {
   "cell_type": "code",
   "execution_count": 2,
   "id": "465d95b7-632a-4f01-bc10-6a6a93b792ba",
   "metadata": {},
   "outputs": [],
   "source": [
    "pdf_path = \"resume.pdf\"\n",
    "doc = pymupdf.open(pdf_path)\n"
   ]
  },
  {
   "cell_type": "code",
   "execution_count": 3,
   "id": "120081f6-169e-42a5-a002-2a6af2228a39",
   "metadata": {},
   "outputs": [
    {
     "name": "stdout",
     "output_type": "stream",
     "text": [
      "Senior Software Engineer at Infosys Technologies Aug 2019 –PresentIndianapolis, IN\n",
      " Successfully developed methodologies to streamline the process of \n",
      "data conversion leveraging latest tools\n",
      " Created optimized PL/SQL scripts to automate data gathering and \n",
      "transformation on various database technologies\n",
      " Refactored existing processes and built component to reduce \n",
      "manual efforts and performed unit tests\n",
      " Conducted meetings and workshops with client to document \n",
      "requirements and provide roadmap for the project\n",
      "Java Developer at School of Education Jan –May 2019College Park, MD\n",
      " Successfully architectured and implemented features in Spring \n",
      "Boot to enhance the capabilities of  web application\n",
      " Designed and developed various UI pages in ReactJS to support \n",
      "application and contributed in creating process workflows\n",
      " Achieved a maintainable and optimised code by refactoring and \n",
      "following best coding and design practices\n",
      " Implemented unit tests in JUnit4 and Mockito providing full\n",
      "code coverage\n",
      "Software Engineer Intern at Institute of Physical Sciences & Tech Jan2018–Feb2019College Park, MD\n",
      " Designed and developed an application to automate the production \n",
      "of binary executables using Python and Pandas dataframes\n",
      " Implemented UI components using ReactJS with custom CSS and \n",
      "Bootstrap4 for layout and positioning\n",
      " Developed applications in Test Driven Development and performed \n",
      "extensive code reviews and thorough testing\n",
      " Interacted with stakeholders to gather and documen t requirements \n",
      "and provided weekly updates on progress and consultationCertifications\n",
      "Oracle Certified Associate, Java SE 8 Programmer \n",
      " Nov 2020\n",
      " Develop code that makes use of Polymorphism, overrides\n",
      "methods, differentiates b/w reference and type of objects \n",
      " Write Lambda expressions that consumes a Labmda Predicate  \n",
      "Expressions and identify optimizations \n",
      " Create executable applications with a main method and create \n",
      "and manipulate Calendar data Skills\n",
      "Programming Languages \n",
      "Java 8, Java 10, JavaScript (ES6), \n",
      "Python, C++ \n",
      "Front-End Technologies \n",
      "ReactJS, JavaScript, HTML5, CSS3, \n",
      "Sass, Bootstrap4, Figma \n",
      "Software Management Tools \n",
      "Github, Bitbucket, Jira, Git Workflows, \n",
      "Bitbucket Pipelines, Agile, Scrum, \n",
      "Kanban, Trello, Slack \n",
      "Other Technologies \n",
      "Spring Boot, RESTful Web Services, \n",
      "Microservices, Hibernate, JDBC, JPA, \n",
      "PL/SQL, JUnit4, Postman, Designing \n",
      "APIs, Consuming APIs, App integrations, \n",
      "Design Patterns, SOLID principles Projects\n",
      "Podcastinator  \n",
      "Search for your favorite podcast from \n",
      "around 2 million podcasts and 91 million \n",
      "episodes all in one place. \n",
      "Draw me a number!  \n",
      "Open the app in your browser and draw \n",
      "a number with your finger or pointer and \n",
      "see some Machine Learning in action \n",
      " Education\n",
      "Master’s in Computer Engineering University of Maryland–May 2019\n",
      "Master’s in computer technologies with \n",
      "primary focus on software engineering, \n",
      "machine learning and its applications  \n",
      "Bachelor’s in Electronics and \n",
      "Telecomms Engineering University of Pune–May 2017\n",
      "Bachelor’s in electronics engineering & \n",
      "signal processing with main focus on \n",
      "programming microcontrollers and \n",
      "microchips to build computer interfaces\n"
     ]
    }
   ],
   "source": [
    "for page in doc:\n",
    "    text = page.get_text()\n",
    "    text = text.strip()\n",
    "    print(text)"
   ]
  },
  {
   "cell_type": "code",
   "execution_count": 4,
   "id": "32740b97-e95e-4538-bdf1-72f16bdd6b04",
   "metadata": {},
   "outputs": [
    {
     "data": {
      "text/plain": [
       "'cuda'"
      ]
     },
     "execution_count": 4,
     "metadata": {},
     "output_type": "execute_result"
    }
   ],
   "source": [
    "device = \"cuda\" if torch.cuda.is_available() else \"cpu\"\n",
    "device"
   ]
  },
  {
   "cell_type": "code",
   "execution_count": 40,
   "id": "200205e8-3bba-4188-8796-d5d567ca463e",
   "metadata": {},
   "outputs": [
    {
     "name": "stderr",
     "output_type": "stream",
     "text": [
      "`low_cpu_mem_usage` was None, now default to True since model is quantized.\n"
     ]
    },
    {
     "name": "stdout",
     "output_type": "stream",
     "text": [
      "Here’s a 5-sentence summary of the candidate’s resume:\n",
      "\n",
      "This Senior Software Engineer brings a strong foundation in Java, Python, and JavaScript, complemented by expertise in database technologies and front-end development.  Their experience includes developing optimized PL/SQL scripts, refactoring processes, and building robust UI components using ReactJS.  The candidate also holds certifications as an Oracle Certified Associate and has demonstrated proficiency in Agile methodologies and API design.  A Master’s degree in Computer Engineering provides a solid theoretical background in computer science and machine learning.  Finally, their background includes a Bachelor’s degree in Electronics and Telecomms Engineering, demonstrating a solid understanding of embedded systems and microcontrollers.\n"
     ]
    }
   ],
   "source": [
    "from transformers import AutoTokenizer, BitsAndBytesConfig, Gemma3ForCausalLM\n",
    "import torch\n",
    "\n",
    "model_id = \"google/gemma-3-1b-it\"\n",
    "\n",
    "quantization_config = BitsAndBytesConfig(load_in_8bit=True)\n",
    "\n",
    "model = Gemma3ForCausalLM.from_pretrained(\n",
    "    model_id, quantization_config=quantization_config\n",
    ").eval()\n",
    "\n",
    "tokenizer = AutoTokenizer.from_pretrained(model_id)\n",
    "\n",
    "messages = [\n",
    "    {\n",
    "        \"role\": \"system\",\n",
    "        \"content\": [{\"type\": \"text\", \"text\": \"You are a helpful assistant.\"}]\n",
    "    },\n",
    "    {\n",
    "        \"role\": \"user\",\n",
    "        \"content\": [{\"type\": \"text\", \"text\": f\"\"\"\n",
    "        Please summarize the candidate's resume succinctly, noting their work experience, skills, projects and education. \n",
    "        in 5 sentences, Begin without any introduction. \n",
    "        The answer is to start with a summary, without a comment like Here's a summary. Highlight his experience, education, \n",
    "        projects and write a short summary of this cv like examples:\n",
    "\n",
    "Example 1. The person graduated with a 1st degree in computer science, worked as a java developer from 1/12/2023 to 4/07/2024. \n",
    "He is skilled in technologies such as Java, Kotlin, Spring, HTML, CSS. The projects she has done are: \n",
    "Web application for checking stock charts, Website design for a game store.\n",
    "\n",
    "Example 2 A person has completed a bachelor's degree in computer science and has not yet worked. \n",
    "She is skilled in technologies such as Python, Pytorch, Numpy, Pandas. The projects she has done are: \n",
    "Image classifier, Housing price analysis.\n",
    "\n",
    "Enter the answer for this text: {text}\n",
    "        \"\"\"}]\n",
    "    },\n",
    "]\n",
    "\n",
    "inputs = tokenizer.apply_chat_template(\n",
    "    messages,\n",
    "    add_generation_prompt=True,\n",
    "    tokenize=True,  # Tokenizacja od razu\n",
    "    return_dict=True,\n",
    "    return_tensors=\"pt\",  # teraz chcemy zwykły tekst, nie tokeny\n",
    ").to(model.device)\n",
    "\n",
    "#inputs = tokenizer(prompt, return_tensors=\"pt\").to(model.device)\n",
    "\n",
    "with torch.inference_mode():\n",
    "    outputs = model.generate(**inputs, max_new_tokens=256, temperature=0.7)\n",
    "\n",
    "output_text = tokenizer.decode(outputs[0], skip_special_tokens=True)\n",
    "\n",
    "response_only = output_text.split(\"model\\n\")[-1].strip()\n",
    "print(response_only)\n"
   ]
  },
  {
   "cell_type": "code",
   "execution_count": 41,
   "id": "febee811-36eb-44b0-8d06-4586d455864d",
   "metadata": {},
   "outputs": [
    {
     "data": {
      "text/plain": [
       "'Here’s a 5-sentence summary of the candidate’s resume:\\n\\nThis Senior Software Engineer brings a strong foundation in Java, Python, and JavaScript, complemented by expertise in database technologies and front-end development.  Their experience includes developing optimized PL/SQL scripts, refactoring processes, and building robust UI components using ReactJS.  The candidate also holds certifications as an Oracle Certified Associate and has demonstrated proficiency in Agile methodologies and API design.  A Master’s degree in Computer Engineering provides a solid theoretical background in computer science and machine learning.  Finally, their background includes a Bachelor’s degree in Electronics and Telecomms Engineering, demonstrating a solid understanding of embedded systems and microcontrollers.'"
      ]
     },
     "execution_count": 41,
     "metadata": {},
     "output_type": "execute_result"
    }
   ],
   "source": [
    "response_only\n",
    "\n"
   ]
  },
  {
   "cell_type": "code",
   "execution_count": 5,
   "id": "c24e93c3-f04e-4a1a-be17-375601d8fc6a",
   "metadata": {},
   "outputs": [],
   "source": [
    "import pandas as pd\n",
    "import numpy as np\n",
    "import matplotlib.pyplot as plt"
   ]
  },
  {
   "cell_type": "code",
   "execution_count": 6,
   "id": "8a91e918-b558-4123-8b1d-cf57d7e1c29c",
   "metadata": {},
   "outputs": [
    {
     "data": {
      "text/html": [
       "<div>\n",
       "<style scoped>\n",
       "    .dataframe tbody tr th:only-of-type {\n",
       "        vertical-align: middle;\n",
       "    }\n",
       "\n",
       "    .dataframe tbody tr th {\n",
       "        vertical-align: top;\n",
       "    }\n",
       "\n",
       "    .dataframe thead th {\n",
       "        text-align: right;\n",
       "    }\n",
       "</style>\n",
       "<table border=\"1\" class=\"dataframe\">\n",
       "  <thead>\n",
       "    <tr style=\"text-align: right;\">\n",
       "      <th></th>\n",
       "      <th>Category</th>\n",
       "      <th>Resume</th>\n",
       "    </tr>\n",
       "  </thead>\n",
       "  <tbody>\n",
       "    <tr>\n",
       "      <th>0</th>\n",
       "      <td>Data Science</td>\n",
       "      <td>Skills * Programming Languages: Python (pandas...</td>\n",
       "    </tr>\n",
       "    <tr>\n",
       "      <th>1</th>\n",
       "      <td>Data Science</td>\n",
       "      <td>Education Details \\r\\nMay 2013 to May 2017 B.E...</td>\n",
       "    </tr>\n",
       "    <tr>\n",
       "      <th>2</th>\n",
       "      <td>Data Science</td>\n",
       "      <td>Areas of Interest Deep Learning, Control Syste...</td>\n",
       "    </tr>\n",
       "    <tr>\n",
       "      <th>3</th>\n",
       "      <td>Data Science</td>\n",
       "      <td>Skills â¢ R â¢ Python â¢ SAP HANA â¢ Table...</td>\n",
       "    </tr>\n",
       "    <tr>\n",
       "      <th>4</th>\n",
       "      <td>Data Science</td>\n",
       "      <td>Education Details \\r\\n MCA   YMCAUST,  Faridab...</td>\n",
       "    </tr>\n",
       "  </tbody>\n",
       "</table>\n",
       "</div>"
      ],
      "text/plain": [
       "       Category                                             Resume\n",
       "0  Data Science  Skills * Programming Languages: Python (pandas...\n",
       "1  Data Science  Education Details \\r\\nMay 2013 to May 2017 B.E...\n",
       "2  Data Science  Areas of Interest Deep Learning, Control Syste...\n",
       "3  Data Science  Skills â¢ R â¢ Python â¢ SAP HANA â¢ Table...\n",
       "4  Data Science  Education Details \\r\\n MCA   YMCAUST,  Faridab..."
      ]
     },
     "execution_count": 6,
     "metadata": {},
     "output_type": "execute_result"
    }
   ],
   "source": [
    "df = pd.read_csv(\"data/UpdatedResumeDataSet.csv\")\n",
    "df.head()"
   ]
  },
  {
   "cell_type": "code",
   "execution_count": 7,
   "id": "94f1459c-18cb-433b-8f84-a1a613443623",
   "metadata": {},
   "outputs": [
    {
     "name": "stdout",
     "output_type": "stream",
     "text": [
      "<class 'pandas.core.frame.DataFrame'>\n",
      "RangeIndex: 962 entries, 0 to 961\n",
      "Data columns (total 2 columns):\n",
      " #   Column    Non-Null Count  Dtype \n",
      "---  ------    --------------  ----- \n",
      " 0   Category  962 non-null    object\n",
      " 1   Resume    962 non-null    object\n",
      "dtypes: object(2)\n",
      "memory usage: 15.2+ KB\n"
     ]
    }
   ],
   "source": [
    "df.info()"
   ]
  },
  {
   "cell_type": "code",
   "execution_count": 8,
   "id": "b9b73a5a-6e38-4f6d-8b4e-c7c92c9af1aa",
   "metadata": {},
   "outputs": [
    {
     "data": {
      "text/html": [
       "<div>\n",
       "<style scoped>\n",
       "    .dataframe tbody tr th:only-of-type {\n",
       "        vertical-align: middle;\n",
       "    }\n",
       "\n",
       "    .dataframe tbody tr th {\n",
       "        vertical-align: top;\n",
       "    }\n",
       "\n",
       "    .dataframe thead th {\n",
       "        text-align: right;\n",
       "    }\n",
       "</style>\n",
       "<table border=\"1\" class=\"dataframe\">\n",
       "  <thead>\n",
       "    <tr style=\"text-align: right;\">\n",
       "      <th></th>\n",
       "      <th>Category</th>\n",
       "      <th>Resume</th>\n",
       "    </tr>\n",
       "  </thead>\n",
       "  <tbody>\n",
       "    <tr>\n",
       "      <th>count</th>\n",
       "      <td>962</td>\n",
       "      <td>962</td>\n",
       "    </tr>\n",
       "    <tr>\n",
       "      <th>unique</th>\n",
       "      <td>25</td>\n",
       "      <td>166</td>\n",
       "    </tr>\n",
       "    <tr>\n",
       "      <th>top</th>\n",
       "      <td>Java Developer</td>\n",
       "      <td>Technical Skills Web Technologies: Angular JS,...</td>\n",
       "    </tr>\n",
       "    <tr>\n",
       "      <th>freq</th>\n",
       "      <td>84</td>\n",
       "      <td>18</td>\n",
       "    </tr>\n",
       "  </tbody>\n",
       "</table>\n",
       "</div>"
      ],
      "text/plain": [
       "              Category                                             Resume\n",
       "count              962                                                962\n",
       "unique              25                                                166\n",
       "top     Java Developer  Technical Skills Web Technologies: Angular JS,...\n",
       "freq                84                                                 18"
      ]
     },
     "execution_count": 8,
     "metadata": {},
     "output_type": "execute_result"
    }
   ],
   "source": [
    "df.describe()"
   ]
  },
  {
   "cell_type": "code",
   "execution_count": 9,
   "id": "ddffdd72-2586-4cf8-82ab-8515d3a608a5",
   "metadata": {},
   "outputs": [
    {
     "data": {
      "text/plain": [
       "Category    0\n",
       "Resume      0\n",
       "dtype: int64"
      ]
     },
     "execution_count": 9,
     "metadata": {},
     "output_type": "execute_result"
    }
   ],
   "source": [
    "df.isnull().sum()"
   ]
  },
  {
   "cell_type": "code",
   "execution_count": 10,
   "id": "4679b1b5-09ec-41bf-a02c-654542b2be84",
   "metadata": {},
   "outputs": [
    {
     "data": {
      "text/plain": [
       "Category    0\n",
       "Resume      0\n",
       "dtype: int64"
      ]
     },
     "execution_count": 10,
     "metadata": {},
     "output_type": "execute_result"
    }
   ],
   "source": [
    "df.isna().sum()"
   ]
  },
  {
   "cell_type": "code",
   "execution_count": 11,
   "id": "320a46fb-af9e-4911-956a-7f781112af67",
   "metadata": {},
   "outputs": [],
   "source": [
    "df[\"Resume\"] = df[\"Resume\"].str.replace(\"\\r\\n\", \"\")\n"
   ]
  },
  {
   "cell_type": "code",
   "execution_count": 12,
   "id": "88e182af-1b0e-41eb-a582-228c86f3aa73",
   "metadata": {},
   "outputs": [
    {
     "data": {
      "text/plain": [
       "0      Skills * Programming Languages: Python (pandas...\n",
       "1      Education Details May 2013 to May 2017 B.E   U...\n",
       "2      Areas of Interest Deep Learning, Control Syste...\n",
       "3      Skills â¢ R â¢ Python â¢ SAP HANA â¢ Table...\n",
       "4      Education Details  MCA   YMCAUST,  Faridabad, ...\n",
       "                             ...                        \n",
       "957    Computer Skills: â¢ Proficient in MS office (...\n",
       "958    â Willingness to accept the challenges. â ...\n",
       "959    PERSONAL SKILLS â¢ Quick learner, â¢ Eagerne...\n",
       "960    COMPUTER SKILLS & SOFTWARE KNOWLEDGE MS-Power ...\n",
       "961    Skill Set OS Windows XP/7/8/8.1/10 Database MY...\n",
       "Name: Resume, Length: 962, dtype: object"
      ]
     },
     "execution_count": 12,
     "metadata": {},
     "output_type": "execute_result"
    }
   ],
   "source": [
    "df[\"Resume\"]"
   ]
  },
  {
   "cell_type": "code",
   "execution_count": 28,
   "id": "b1cd80ee-97a4-4d11-a4e9-9e9259e6615c",
   "metadata": {},
   "outputs": [
    {
     "data": {
      "text/plain": [
       "'Education Details May 2013 to May 2017 B.E   UIT-RGPVData Scientist Data Scientist - MatelabsSkill Details Python- Exprience - Less than 1 year monthsStatsmodels- Exprience - 12 monthsAWS- Exprience - Less than 1 year monthsMachine learning- Exprience - Less than 1 year monthsSklearn- Exprience - Less than 1 year monthsScipy- Exprience - Less than 1 year monthsKeras- Exprience - Less than 1 year monthsCompany Details company - Matelabsdescription - ML Platform for business professionals, dummies and enthusiasts.60/A Koramangala 5th block,Achievements/Tasks behind sukh sagar, Bengaluru,India                               Developed and deployed auto preprocessing steps of machine learning mainly missing valuetreatment, outlier detection, encoding, scaling, feature selection and dimensionality reduction.Deployed automated classification and regression model.linkedin.com/in/aditya-rathore-b4600b146                           Reasearch and deployed the time series forecasting model ARIMA, SARIMAX, Holt-winter andProphet.Worked on meta-feature extracting problem.github.com/rathorologyImplemented a state of the art research paper on outlier detection for mixed attributes.company - Matelabsdescription - '"
      ]
     },
     "execution_count": 28,
     "metadata": {},
     "output_type": "execute_result"
    }
   ],
   "source": [
    "df[\"Resume\"][1]"
   ]
  },
  {
   "cell_type": "code",
   "execution_count": null,
   "id": "480a1b0c-ae67-4f4e-9ab2-14e00366f0ee",
   "metadata": {},
   "outputs": [],
   "source": []
  },
  {
   "cell_type": "code",
   "execution_count": null,
   "id": "4c87ed2f-a0c9-4199-800b-c7e673053eea",
   "metadata": {},
   "outputs": [],
   "source": []
  },
  {
   "cell_type": "code",
   "execution_count": null,
   "id": "3f33df1b-9eea-48df-8532-85bea320fbf9",
   "metadata": {},
   "outputs": [],
   "source": []
  },
  {
   "cell_type": "code",
   "execution_count": null,
   "id": "ef3e2bfe-9ee1-43a3-9ad8-7be52d49aa94",
   "metadata": {},
   "outputs": [],
   "source": []
  },
  {
   "cell_type": "code",
   "execution_count": null,
   "id": "ba22961c-da77-4b7e-b6d8-31fbc95180f7",
   "metadata": {},
   "outputs": [],
   "source": []
  },
  {
   "cell_type": "code",
   "execution_count": null,
   "id": "72c5c652-81c7-4180-bf40-ce9e9a2d5cb2",
   "metadata": {},
   "outputs": [],
   "source": []
  }
 ],
 "metadata": {
  "kernelspec": {
   "display_name": "Python 3 (ipykernel)",
   "language": "python",
   "name": "python3"
  },
  "language_info": {
   "codemirror_mode": {
    "name": "ipython",
    "version": 3
   },
   "file_extension": ".py",
   "mimetype": "text/x-python",
   "name": "python",
   "nbconvert_exporter": "python",
   "pygments_lexer": "ipython3",
   "version": "3.9.21"
  }
 },
 "nbformat": 4,
 "nbformat_minor": 5
}
