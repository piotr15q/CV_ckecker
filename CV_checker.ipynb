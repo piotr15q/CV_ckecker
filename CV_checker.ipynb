{
 "cells": [
  {
   "cell_type": "code",
   "execution_count": 1,
   "id": "cf546217-7553-4f63-8d2f-f0d2931db676",
   "metadata": {},
   "outputs": [],
   "source": [
    "import torch\n",
    "import os\n",
    "import pymupdf\n",
    "import transformers"
   ]
  },
  {
   "cell_type": "code",
   "execution_count": 2,
   "id": "465d95b7-632a-4f01-bc10-6a6a93b792ba",
   "metadata": {},
   "outputs": [],
   "source": [
    "pdf_path = \"resume.pdf\"\n",
    "doc = pymupdf.open(pdf_path)\n"
   ]
  },
  {
   "cell_type": "code",
   "execution_count": 3,
   "id": "120081f6-169e-42a5-a002-2a6af2228a39",
   "metadata": {},
   "outputs": [
    {
     "name": "stdout",
     "output_type": "stream",
     "text": [
      "Senior Software Engineer at Infosys Technologies Aug 2019 –PresentIndianapolis, IN\n",
      " Successfully developed methodologies to streamline the process of \n",
      "data conversion leveraging latest tools\n",
      " Created optimized PL/SQL scripts to automate data gathering and \n",
      "transformation on various database technologies\n",
      " Refactored existing processes and built component to reduce \n",
      "manual efforts and performed unit tests\n",
      " Conducted meetings and workshops with client to document \n",
      "requirements and provide roadmap for the project\n",
      "Java Developer at School of Education Jan –May 2019College Park, MD\n",
      " Successfully architectured and implemented features in Spring \n",
      "Boot to enhance the capabilities of  web application\n",
      " Designed and developed various UI pages in ReactJS to support \n",
      "application and contributed in creating process workflows\n",
      " Achieved a maintainable and optimised code by refactoring and \n",
      "following best coding and design practices\n",
      " Implemented unit tests in JUnit4 and Mockito providing full\n",
      "code coverage\n",
      "Software Engineer Intern at Institute of Physical Sciences & Tech Jan2018–Feb2019College Park, MD\n",
      " Designed and developed an application to automate the production \n",
      "of binary executables using Python and Pandas dataframes\n",
      " Implemented UI components using ReactJS with custom CSS and \n",
      "Bootstrap4 for layout and positioning\n",
      " Developed applications in Test Driven Development and performed \n",
      "extensive code reviews and thorough testing\n",
      " Interacted with stakeholders to gather and documen t requirements \n",
      "and provided weekly updates on progress and consultationCertifications\n",
      "Oracle Certified Associate, Java SE 8 Programmer \n",
      " Nov 2020\n",
      " Develop code that makes use of Polymorphism, overrides\n",
      "methods, differentiates b/w reference and type of objects \n",
      " Write Lambda expressions that consumes a Labmda Predicate  \n",
      "Expressions and identify optimizations \n",
      " Create executable applications with a main method and create \n",
      "and manipulate Calendar data Skills\n",
      "Programming Languages \n",
      "Java 8, Java 10, JavaScript (ES6), \n",
      "Python, C++ \n",
      "Front-End Technologies \n",
      "ReactJS, JavaScript, HTML5, CSS3, \n",
      "Sass, Bootstrap4, Figma \n",
      "Software Management Tools \n",
      "Github, Bitbucket, Jira, Git Workflows, \n",
      "Bitbucket Pipelines, Agile, Scrum, \n",
      "Kanban, Trello, Slack \n",
      "Other Technologies \n",
      "Spring Boot, RESTful Web Services, \n",
      "Microservices, Hibernate, JDBC, JPA, \n",
      "PL/SQL, JUnit4, Postman, Designing \n",
      "APIs, Consuming APIs, App integrations, \n",
      "Design Patterns, SOLID principles Projects\n",
      "Podcastinator  \n",
      "Search for your favorite podcast from \n",
      "around 2 million podcasts and 91 million \n",
      "episodes all in one place. \n",
      "Draw me a number!  \n",
      "Open the app in your browser and draw \n",
      "a number with your finger or pointer and \n",
      "see some Machine Learning in action \n",
      " Education\n",
      "Master’s in Computer Engineering University of Maryland–May 2019\n",
      "Master’s in computer technologies with \n",
      "primary focus on software engineering, \n",
      "machine learning and its applications  \n",
      "Bachelor’s in Electronics and \n",
      "Telecomms Engineering University of Pune–May 2017\n",
      "Bachelor’s in electronics engineering & \n",
      "signal processing with main focus on \n",
      "programming microcontrollers and \n",
      "microchips to build computer interfaces\n"
     ]
    }
   ],
   "source": [
    "for page in doc:\n",
    "    text = page.get_text()\n",
    "    text = text.strip()\n",
    "    print(text)"
   ]
  },
  {
   "cell_type": "code",
   "execution_count": 4,
   "id": "32740b97-e95e-4538-bdf1-72f16bdd6b04",
   "metadata": {},
   "outputs": [
    {
     "data": {
      "text/plain": [
       "'cuda'"
      ]
     },
     "execution_count": 4,
     "metadata": {},
     "output_type": "execute_result"
    }
   ],
   "source": [
    "device = \"cuda\" if torch.cuda.is_available() else \"cpu\"\n",
    "device"
   ]
  },
  {
   "cell_type": "code",
   "execution_count": 104,
   "id": "200205e8-3bba-4188-8796-d5d567ca463e",
   "metadata": {},
   "outputs": [
    {
     "name": "stderr",
     "output_type": "stream",
     "text": [
      "`low_cpu_mem_usage` was None, now default to True since model is quantized.\n"
     ]
    },
    {
     "name": "stdout",
     "output_type": "stream",
     "text": [
      "Here’s a 5-sentence summary of the candidate’s resume:\n",
      "\n",
      "The candidate is a Senior Software Engineer with a strong background in Java and related technologies, demonstrated through experience at Infosys and School of Education.  They possess expertise in data transformation, PL/SQL scripting, and refactoring, alongside experience in Spring Boot and ReactJS development.  The candidate has also completed internships and a Master’s degree in Computer Engineering, focusing on software engineering, machine learning, and related fields.  Furthermore, they have demonstrated proficiency in various software management tools and programming languages, including JUnit and Postman.  Finally, the candidate’s passion for podcasting and machine learning highlights their broader interest in innovative technologies.\n"
     ]
    }
   ],
   "source": [
    "from transformers import AutoTokenizer, BitsAndBytesConfig, Gemma3ForCausalLM\n",
    "import torch\n",
    "\n",
    "model_id = \"google/gemma-3-1b-it\"\n",
    "\n",
    "quantization_config = BitsAndBytesConfig(load_in_8bit=True)\n",
    "\n",
    "model = Gemma3ForCausalLM.from_pretrained(\n",
    "    model_id, quantization_config=quantization_config\n",
    ").eval()\n",
    "\n",
    "tokenizer = AutoTokenizer.from_pretrained(model_id)\n",
    "\n",
    "messages = [\n",
    "    {\n",
    "        \"role\": \"system\",\n",
    "        \"content\": [{\"type\": \"text\", \"text\": \"You are a helpful assistant.\"}]\n",
    "    },\n",
    "    {\n",
    "        \"role\": \"user\",\n",
    "        \"content\": [{\"type\": \"text\", \"text\": f\"\"\"\n",
    "        Please summarize the candidate's resume succinctly, noting their work experience, skills, projects and education. \n",
    "        in 5 sentences, Begin without any introduction. \n",
    "        The answer is to start with a summary, without a comment like Here's a summary. Highlight his experience, education, \n",
    "        projects and write a short summary of this cv like examples:\n",
    "\n",
    "Example 1. The person graduated with a 1st degree in computer science, worked as a java developer from 1/12/2023 to 4/07/2024. \n",
    "He is skilled in technologies such as Java, Kotlin, Spring, HTML, CSS. The projects she has done are: \n",
    "Web application for checking stock charts, Website design for a game store.\n",
    "\n",
    "Example 2 A person has completed a bachelor's degree in computer science and has not yet worked. \n",
    "She is skilled in technologies such as Python, Pytorch, Numpy, Pandas. The projects she has done are: \n",
    "Image classifier, Housing price analysis.\n",
    "\n",
    "Enter the answer for this text: {text}\n",
    "        \"\"\"}]\n",
    "    },\n",
    "]\n",
    "\n",
    "inputs = tokenizer.apply_chat_template(\n",
    "    messages,\n",
    "    add_generation_prompt=True,\n",
    "    tokenize=True,  # Tokenizacja od razu\n",
    "    return_dict=True,\n",
    "    return_tensors=\"pt\",  # teraz chcemy zwykły tekst, nie tokeny\n",
    ").to(model.device)\n",
    "\n",
    "#inputs = tokenizer(prompt, return_tensors=\"pt\").to(model.device)\n",
    "\n",
    "with torch.inference_mode():\n",
    "    outputs = model.generate(**inputs, max_new_tokens=256, temperature=0.7)\n",
    "\n",
    "output_text = tokenizer.decode(outputs[0], skip_special_tokens=True)\n",
    "\n",
    "response_only = output_text.split(\"model\\n\")[-1].strip()\n",
    "print(response_only)\n"
   ]
  },
  {
   "cell_type": "code",
   "execution_count": 105,
   "id": "febee811-36eb-44b0-8d06-4586d455864d",
   "metadata": {},
   "outputs": [
    {
     "data": {
      "text/plain": [
       "'Here’s a 5-sentence summary of the candidate’s resume:\\n\\nThe candidate is a Senior Software Engineer with a strong background in Java and related technologies, demonstrated through experience at Infosys and School of Education.  They possess expertise in data transformation, PL/SQL scripting, and refactoring, alongside experience in Spring Boot and ReactJS development.  The candidate has also completed internships and a Master’s degree in Computer Engineering, focusing on software engineering, machine learning, and related fields.  Furthermore, they have demonstrated proficiency in various software management tools and programming languages, including JUnit and Postman.  Finally, the candidate’s passion for podcasting and machine learning highlights their broader interest in innovative technologies.'"
      ]
     },
     "execution_count": 105,
     "metadata": {},
     "output_type": "execute_result"
    }
   ],
   "source": [
    "response_only\n",
    "\n"
   ]
  },
  {
   "cell_type": "code",
   "execution_count": 5,
   "id": "c24e93c3-f04e-4a1a-be17-375601d8fc6a",
   "metadata": {},
   "outputs": [],
   "source": [
    "import pandas as pd\n",
    "import numpy as np\n",
    "import matplotlib.pyplot as plt"
   ]
  },
  {
   "cell_type": "code",
   "execution_count": 6,
   "id": "8a91e918-b558-4123-8b1d-cf57d7e1c29c",
   "metadata": {},
   "outputs": [
    {
     "data": {
      "text/html": [
       "<div>\n",
       "<style scoped>\n",
       "    .dataframe tbody tr th:only-of-type {\n",
       "        vertical-align: middle;\n",
       "    }\n",
       "\n",
       "    .dataframe tbody tr th {\n",
       "        vertical-align: top;\n",
       "    }\n",
       "\n",
       "    .dataframe thead th {\n",
       "        text-align: right;\n",
       "    }\n",
       "</style>\n",
       "<table border=\"1\" class=\"dataframe\">\n",
       "  <thead>\n",
       "    <tr style=\"text-align: right;\">\n",
       "      <th></th>\n",
       "      <th>Category</th>\n",
       "      <th>Resume</th>\n",
       "    </tr>\n",
       "  </thead>\n",
       "  <tbody>\n",
       "    <tr>\n",
       "      <th>0</th>\n",
       "      <td>Data Science</td>\n",
       "      <td>Skills * Programming Languages: Python (pandas...</td>\n",
       "    </tr>\n",
       "    <tr>\n",
       "      <th>1</th>\n",
       "      <td>Data Science</td>\n",
       "      <td>Education Details \\r\\nMay 2013 to May 2017 B.E...</td>\n",
       "    </tr>\n",
       "    <tr>\n",
       "      <th>2</th>\n",
       "      <td>Data Science</td>\n",
       "      <td>Areas of Interest Deep Learning, Control Syste...</td>\n",
       "    </tr>\n",
       "    <tr>\n",
       "      <th>3</th>\n",
       "      <td>Data Science</td>\n",
       "      <td>Skills â¢ R â¢ Python â¢ SAP HANA â¢ Table...</td>\n",
       "    </tr>\n",
       "    <tr>\n",
       "      <th>4</th>\n",
       "      <td>Data Science</td>\n",
       "      <td>Education Details \\r\\n MCA   YMCAUST,  Faridab...</td>\n",
       "    </tr>\n",
       "  </tbody>\n",
       "</table>\n",
       "</div>"
      ],
      "text/plain": [
       "       Category                                             Resume\n",
       "0  Data Science  Skills * Programming Languages: Python (pandas...\n",
       "1  Data Science  Education Details \\r\\nMay 2013 to May 2017 B.E...\n",
       "2  Data Science  Areas of Interest Deep Learning, Control Syste...\n",
       "3  Data Science  Skills â¢ R â¢ Python â¢ SAP HANA â¢ Table...\n",
       "4  Data Science  Education Details \\r\\n MCA   YMCAUST,  Faridab..."
      ]
     },
     "execution_count": 6,
     "metadata": {},
     "output_type": "execute_result"
    }
   ],
   "source": [
    "df = pd.read_csv(\"data/UpdatedResumeDataSet.csv\")\n",
    "df.head()"
   ]
  },
  {
   "cell_type": "code",
   "execution_count": 7,
   "id": "94f1459c-18cb-433b-8f84-a1a613443623",
   "metadata": {},
   "outputs": [
    {
     "name": "stdout",
     "output_type": "stream",
     "text": [
      "<class 'pandas.core.frame.DataFrame'>\n",
      "RangeIndex: 962 entries, 0 to 961\n",
      "Data columns (total 2 columns):\n",
      " #   Column    Non-Null Count  Dtype \n",
      "---  ------    --------------  ----- \n",
      " 0   Category  962 non-null    object\n",
      " 1   Resume    962 non-null    object\n",
      "dtypes: object(2)\n",
      "memory usage: 15.2+ KB\n"
     ]
    }
   ],
   "source": [
    "df.info()"
   ]
  },
  {
   "cell_type": "code",
   "execution_count": 8,
   "id": "b9b73a5a-6e38-4f6d-8b4e-c7c92c9af1aa",
   "metadata": {},
   "outputs": [
    {
     "data": {
      "text/html": [
       "<div>\n",
       "<style scoped>\n",
       "    .dataframe tbody tr th:only-of-type {\n",
       "        vertical-align: middle;\n",
       "    }\n",
       "\n",
       "    .dataframe tbody tr th {\n",
       "        vertical-align: top;\n",
       "    }\n",
       "\n",
       "    .dataframe thead th {\n",
       "        text-align: right;\n",
       "    }\n",
       "</style>\n",
       "<table border=\"1\" class=\"dataframe\">\n",
       "  <thead>\n",
       "    <tr style=\"text-align: right;\">\n",
       "      <th></th>\n",
       "      <th>Category</th>\n",
       "      <th>Resume</th>\n",
       "    </tr>\n",
       "  </thead>\n",
       "  <tbody>\n",
       "    <tr>\n",
       "      <th>count</th>\n",
       "      <td>962</td>\n",
       "      <td>962</td>\n",
       "    </tr>\n",
       "    <tr>\n",
       "      <th>unique</th>\n",
       "      <td>25</td>\n",
       "      <td>166</td>\n",
       "    </tr>\n",
       "    <tr>\n",
       "      <th>top</th>\n",
       "      <td>Java Developer</td>\n",
       "      <td>Technical Skills Web Technologies: Angular JS,...</td>\n",
       "    </tr>\n",
       "    <tr>\n",
       "      <th>freq</th>\n",
       "      <td>84</td>\n",
       "      <td>18</td>\n",
       "    </tr>\n",
       "  </tbody>\n",
       "</table>\n",
       "</div>"
      ],
      "text/plain": [
       "              Category                                             Resume\n",
       "count              962                                                962\n",
       "unique              25                                                166\n",
       "top     Java Developer  Technical Skills Web Technologies: Angular JS,...\n",
       "freq                84                                                 18"
      ]
     },
     "execution_count": 8,
     "metadata": {},
     "output_type": "execute_result"
    }
   ],
   "source": [
    "df.describe()"
   ]
  },
  {
   "cell_type": "code",
   "execution_count": 9,
   "id": "ddffdd72-2586-4cf8-82ab-8515d3a608a5",
   "metadata": {},
   "outputs": [
    {
     "data": {
      "text/plain": [
       "Category    0\n",
       "Resume      0\n",
       "dtype: int64"
      ]
     },
     "execution_count": 9,
     "metadata": {},
     "output_type": "execute_result"
    }
   ],
   "source": [
    "df.isnull().sum()"
   ]
  },
  {
   "cell_type": "code",
   "execution_count": 10,
   "id": "4679b1b5-09ec-41bf-a02c-654542b2be84",
   "metadata": {},
   "outputs": [
    {
     "data": {
      "text/plain": [
       "Category    0\n",
       "Resume      0\n",
       "dtype: int64"
      ]
     },
     "execution_count": 10,
     "metadata": {},
     "output_type": "execute_result"
    }
   ],
   "source": [
    "df.isna().sum()"
   ]
  },
  {
   "cell_type": "code",
   "execution_count": 11,
   "id": "320a46fb-af9e-4911-956a-7f781112af67",
   "metadata": {},
   "outputs": [],
   "source": [
    "df[\"Resume\"] = df[\"Resume\"].str.replace(\"\\r\\n\", \"\")\n"
   ]
  },
  {
   "cell_type": "code",
   "execution_count": 12,
   "id": "88e182af-1b0e-41eb-a582-228c86f3aa73",
   "metadata": {},
   "outputs": [
    {
     "data": {
      "text/plain": [
       "0      Skills * Programming Languages: Python (pandas...\n",
       "1      Education Details May 2013 to May 2017 B.E   U...\n",
       "2      Areas of Interest Deep Learning, Control Syste...\n",
       "3      Skills â¢ R â¢ Python â¢ SAP HANA â¢ Table...\n",
       "4      Education Details  MCA   YMCAUST,  Faridabad, ...\n",
       "                             ...                        \n",
       "957    Computer Skills: â¢ Proficient in MS office (...\n",
       "958    â Willingness to accept the challenges. â ...\n",
       "959    PERSONAL SKILLS â¢ Quick learner, â¢ Eagerne...\n",
       "960    COMPUTER SKILLS & SOFTWARE KNOWLEDGE MS-Power ...\n",
       "961    Skill Set OS Windows XP/7/8/8.1/10 Database MY...\n",
       "Name: Resume, Length: 962, dtype: object"
      ]
     },
     "execution_count": 12,
     "metadata": {},
     "output_type": "execute_result"
    }
   ],
   "source": [
    "df[\"Resume\"]"
   ]
  },
  {
   "cell_type": "code",
   "execution_count": 13,
   "id": "b1cd80ee-97a4-4d11-a4e9-9e9259e6615c",
   "metadata": {},
   "outputs": [
    {
     "data": {
      "text/plain": [
       "'Education Details May 2013 to May 2017 B.E   UIT-RGPVData Scientist Data Scientist - MatelabsSkill Details Python- Exprience - Less than 1 year monthsStatsmodels- Exprience - 12 monthsAWS- Exprience - Less than 1 year monthsMachine learning- Exprience - Less than 1 year monthsSklearn- Exprience - Less than 1 year monthsScipy- Exprience - Less than 1 year monthsKeras- Exprience - Less than 1 year monthsCompany Details company - Matelabsdescription - ML Platform for business professionals, dummies and enthusiasts.60/A Koramangala 5th block,Achievements/Tasks behind sukh sagar, Bengaluru,India                               Developed and deployed auto preprocessing steps of machine learning mainly missing valuetreatment, outlier detection, encoding, scaling, feature selection and dimensionality reduction.Deployed automated classification and regression model.linkedin.com/in/aditya-rathore-b4600b146                           Reasearch and deployed the time series forecasting model ARIMA, SARIMAX, Holt-winter andProphet.Worked on meta-feature extracting problem.github.com/rathorologyImplemented a state of the art research paper on outlier detection for mixed attributes.company - Matelabsdescription - '"
      ]
     },
     "execution_count": 13,
     "metadata": {},
     "output_type": "execute_result"
    }
   ],
   "source": [
    "df[\"Resume\"][1]"
   ]
  },
  {
   "cell_type": "code",
   "execution_count": 14,
   "id": "d1093b21-eccd-40d2-bbd4-faa8c5d05486",
   "metadata": {},
   "outputs": [],
   "source": [
    "import re\n",
    "def clean_text(text):\n",
    "    return re.sub(r'[^a-zA-Z0-9\\s]', '', str(text))\n",
    "\n",
    "df['Resume'] = df['Resume'].apply(clean_text)"
   ]
  },
  {
   "cell_type": "code",
   "execution_count": 15,
   "id": "480a1b0c-ae67-4f4e-9ab2-14e00366f0ee",
   "metadata": {},
   "outputs": [
    {
     "name": "stderr",
     "output_type": "stream",
     "text": [
      "[nltk_data] Downloading package punkt_tab to\n",
      "[nltk_data]     C:\\Users\\piotr\\AppData\\Roaming\\nltk_data...\n",
      "[nltk_data]   Package punkt_tab is already up-to-date!\n"
     ]
    }
   ],
   "source": [
    "import nltk\n",
    "from nltk.tokenize import word_tokenize, sent_tokenize\n",
    "nltk.download('punkt_tab')\n",
    "df['tokens'] = df['Resume'].apply(word_tokenize)"
   ]
  },
  {
   "cell_type": "code",
   "execution_count": 16,
   "id": "4c87ed2f-a0c9-4199-800b-c7e673053eea",
   "metadata": {},
   "outputs": [
    {
     "data": {
      "text/html": [
       "<div>\n",
       "<style scoped>\n",
       "    .dataframe tbody tr th:only-of-type {\n",
       "        vertical-align: middle;\n",
       "    }\n",
       "\n",
       "    .dataframe tbody tr th {\n",
       "        vertical-align: top;\n",
       "    }\n",
       "\n",
       "    .dataframe thead th {\n",
       "        text-align: right;\n",
       "    }\n",
       "</style>\n",
       "<table border=\"1\" class=\"dataframe\">\n",
       "  <thead>\n",
       "    <tr style=\"text-align: right;\">\n",
       "      <th></th>\n",
       "      <th>Category</th>\n",
       "      <th>Resume</th>\n",
       "      <th>tokens</th>\n",
       "    </tr>\n",
       "  </thead>\n",
       "  <tbody>\n",
       "    <tr>\n",
       "      <th>0</th>\n",
       "      <td>Data Science</td>\n",
       "      <td>Skills  Programming Languages Python pandas nu...</td>\n",
       "      <td>[Skills, Programming, Languages, Python, panda...</td>\n",
       "    </tr>\n",
       "    <tr>\n",
       "      <th>1</th>\n",
       "      <td>Data Science</td>\n",
       "      <td>Education Details May 2013 to May 2017 BE   UI...</td>\n",
       "      <td>[Education, Details, May, 2013, to, May, 2017,...</td>\n",
       "    </tr>\n",
       "    <tr>\n",
       "      <th>2</th>\n",
       "      <td>Data Science</td>\n",
       "      <td>Areas of Interest Deep Learning Control System...</td>\n",
       "      <td>[Areas, of, Interest, Deep, Learning, Control,...</td>\n",
       "    </tr>\n",
       "    <tr>\n",
       "      <th>3</th>\n",
       "      <td>Data Science</td>\n",
       "      <td>Skills  R  Python  SAP HANA  Tableau  SAP HANA...</td>\n",
       "      <td>[Skills, R, Python, SAP, HANA, Tableau, SAP, H...</td>\n",
       "    </tr>\n",
       "    <tr>\n",
       "      <th>4</th>\n",
       "      <td>Data Science</td>\n",
       "      <td>Education Details  MCA   YMCAUST  Faridabad  H...</td>\n",
       "      <td>[Education, Details, MCA, YMCAUST, Faridabad, ...</td>\n",
       "    </tr>\n",
       "  </tbody>\n",
       "</table>\n",
       "</div>"
      ],
      "text/plain": [
       "       Category                                             Resume  \\\n",
       "0  Data Science  Skills  Programming Languages Python pandas nu...   \n",
       "1  Data Science  Education Details May 2013 to May 2017 BE   UI...   \n",
       "2  Data Science  Areas of Interest Deep Learning Control System...   \n",
       "3  Data Science  Skills  R  Python  SAP HANA  Tableau  SAP HANA...   \n",
       "4  Data Science  Education Details  MCA   YMCAUST  Faridabad  H...   \n",
       "\n",
       "                                              tokens  \n",
       "0  [Skills, Programming, Languages, Python, panda...  \n",
       "1  [Education, Details, May, 2013, to, May, 2017,...  \n",
       "2  [Areas, of, Interest, Deep, Learning, Control,...  \n",
       "3  [Skills, R, Python, SAP, HANA, Tableau, SAP, H...  \n",
       "4  [Education, Details, MCA, YMCAUST, Faridabad, ...  "
      ]
     },
     "execution_count": 16,
     "metadata": {},
     "output_type": "execute_result"
    }
   ],
   "source": [
    "df.head()"
   ]
  },
  {
   "cell_type": "code",
   "execution_count": 17,
   "id": "94744231-dd24-4c2a-8e0c-6df301bb4d26",
   "metadata": {},
   "outputs": [],
   "source": [
    "from sentence_transformers import SentenceTransformer"
   ]
  },
  {
   "cell_type": "code",
   "execution_count": 18,
   "id": "3bd34c57-231e-4870-a966-49b2378aa2dd",
   "metadata": {},
   "outputs": [],
   "source": [
    "from transformers import AutoTokenizer, Gemma3ForCausalLM"
   ]
  },
  {
   "cell_type": "code",
   "execution_count": 19,
   "id": "72c5c652-81c7-4180-bf40-ce9e9a2d5cb2",
   "metadata": {},
   "outputs": [],
   "source": [
    "model_id = \"sentence-transformers/all-mpnet-base-v2\"\n",
    "\n",
    "tokenizer = AutoTokenizer.from_pretrained(model_id)\n",
    "\n",
    "#tokens_num = tokenizer(df['tokens'], return_tensors=\"pt\")\n",
    "\n",
    "tokens = tokenizer(\n",
    "    df['Resume'].tolist(),\n",
    "    max_length=256,\n",
    "    padding=\"max_length\",\n",
    "    truncation=True,\n",
    "    return_tensors=\"pt\"\n",
    ")"
   ]
  },
  {
   "cell_type": "code",
   "execution_count": 20,
   "id": "c2d286ff-f951-4d75-8752-ff441e0d94c9",
   "metadata": {},
   "outputs": [
    {
     "data": {
      "text/html": [
       "<div>\n",
       "<style scoped>\n",
       "    .dataframe tbody tr th:only-of-type {\n",
       "        vertical-align: middle;\n",
       "    }\n",
       "\n",
       "    .dataframe tbody tr th {\n",
       "        vertical-align: top;\n",
       "    }\n",
       "\n",
       "    .dataframe thead th {\n",
       "        text-align: right;\n",
       "    }\n",
       "</style>\n",
       "<table border=\"1\" class=\"dataframe\">\n",
       "  <thead>\n",
       "    <tr style=\"text-align: right;\">\n",
       "      <th></th>\n",
       "      <th>Category</th>\n",
       "      <th>Resume</th>\n",
       "      <th>tokens</th>\n",
       "    </tr>\n",
       "  </thead>\n",
       "  <tbody>\n",
       "    <tr>\n",
       "      <th>0</th>\n",
       "      <td>Data Science</td>\n",
       "      <td>Skills  Programming Languages Python pandas nu...</td>\n",
       "      <td>[Skills, Programming, Languages, Python, panda...</td>\n",
       "    </tr>\n",
       "    <tr>\n",
       "      <th>1</th>\n",
       "      <td>Data Science</td>\n",
       "      <td>Education Details May 2013 to May 2017 BE   UI...</td>\n",
       "      <td>[Education, Details, May, 2013, to, May, 2017,...</td>\n",
       "    </tr>\n",
       "    <tr>\n",
       "      <th>2</th>\n",
       "      <td>Data Science</td>\n",
       "      <td>Areas of Interest Deep Learning Control System...</td>\n",
       "      <td>[Areas, of, Interest, Deep, Learning, Control,...</td>\n",
       "    </tr>\n",
       "    <tr>\n",
       "      <th>3</th>\n",
       "      <td>Data Science</td>\n",
       "      <td>Skills  R  Python  SAP HANA  Tableau  SAP HANA...</td>\n",
       "      <td>[Skills, R, Python, SAP, HANA, Tableau, SAP, H...</td>\n",
       "    </tr>\n",
       "    <tr>\n",
       "      <th>4</th>\n",
       "      <td>Data Science</td>\n",
       "      <td>Education Details  MCA   YMCAUST  Faridabad  H...</td>\n",
       "      <td>[Education, Details, MCA, YMCAUST, Faridabad, ...</td>\n",
       "    </tr>\n",
       "  </tbody>\n",
       "</table>\n",
       "</div>"
      ],
      "text/plain": [
       "       Category                                             Resume  \\\n",
       "0  Data Science  Skills  Programming Languages Python pandas nu...   \n",
       "1  Data Science  Education Details May 2013 to May 2017 BE   UI...   \n",
       "2  Data Science  Areas of Interest Deep Learning Control System...   \n",
       "3  Data Science  Skills  R  Python  SAP HANA  Tableau  SAP HANA...   \n",
       "4  Data Science  Education Details  MCA   YMCAUST  Faridabad  H...   \n",
       "\n",
       "                                              tokens  \n",
       "0  [Skills, Programming, Languages, Python, panda...  \n",
       "1  [Education, Details, May, 2013, to, May, 2017,...  \n",
       "2  [Areas, of, Interest, Deep, Learning, Control,...  \n",
       "3  [Skills, R, Python, SAP, HANA, Tableau, SAP, H...  \n",
       "4  [Education, Details, MCA, YMCAUST, Faridabad, ...  "
      ]
     },
     "execution_count": 20,
     "metadata": {},
     "output_type": "execute_result"
    }
   ],
   "source": [
    "df.head()"
   ]
  },
  {
   "cell_type": "code",
   "execution_count": 21,
   "id": "4c044b48-545d-49c5-9d25-fc816029de94",
   "metadata": {},
   "outputs": [
    {
     "data": {
      "text/plain": [
       "array([ 6, 12,  0,  1, 24, 16, 22, 14,  5, 15,  4, 21,  2, 11, 18, 20,  8,\n",
       "       17, 19,  7, 13, 10,  9,  3, 23])"
      ]
     },
     "execution_count": 21,
     "metadata": {},
     "output_type": "execute_result"
    }
   ],
   "source": [
    "from sklearn import preprocessing\n",
    "\n",
    "label_encoder = preprocessing.LabelEncoder()\n",
    "df['labels']= label_encoder.fit_transform(df['Category'])\n",
    "\n",
    "df['labels'].unique()"
   ]
  },
  {
   "cell_type": "code",
   "execution_count": 22,
   "id": "e06ef92d-af6b-42a5-a075-99b2dc6774db",
   "metadata": {},
   "outputs": [],
   "source": [
    "from sklearn.model_selection import train_test_split"
   ]
  },
  {
   "cell_type": "code",
   "execution_count": 27,
   "id": "6a9aafd9-51ff-4281-b3c1-d1e2f3154ef8",
   "metadata": {},
   "outputs": [
    {
     "name": "stdout",
     "output_type": "stream",
     "text": [
      "['Civil Engineer' 'Automation Testing' 'Electrical Engineering'\n",
      " 'Java Developer' 'Data Science']\n"
     ]
    }
   ],
   "source": [
    "categories = label_encoder.inverse_transform([5, 2, 11, 15, 6])\n",
    "print(categories)"
   ]
  },
  {
   "cell_type": "code",
   "execution_count": 28,
   "id": "d691ab05-661c-41a6-a17f-b6faf156c5c7",
   "metadata": {},
   "outputs": [],
   "source": [
    "from torch import nn"
   ]
  },
  {
   "cell_type": "code",
   "execution_count": 29,
   "id": "a0a446e7-9bae-44c4-8331-47f1ce499907",
   "metadata": {},
   "outputs": [
    {
     "data": {
      "text/plain": [
       "torch.Size([962, 256])"
      ]
     },
     "execution_count": 29,
     "metadata": {},
     "output_type": "execute_result"
    }
   ],
   "source": [
    "tokens['input_ids'].shape"
   ]
  },
  {
   "cell_type": "code",
   "execution_count": 31,
   "id": "aa03b50d-bfd0-4a69-bae7-0ca3c9c8359b",
   "metadata": {},
   "outputs": [
    {
     "data": {
      "text/plain": [
       "array([[ 8.42282921e-02,  1.88610367e-02, -3.63459140e-02,\n",
       "        -5.80457561e-02, -1.80319101e-02,  2.87969392e-02,\n",
       "         2.27568690e-02,  3.61124948e-02, -2.05665361e-02,\n",
       "        -7.18265399e-02,  1.84903610e-02,  4.56743836e-02,\n",
       "         8.56274087e-03,  1.39780641e-01, -1.74210151e-03,\n",
       "         1.52888549e-02,  1.65179837e-02,  3.36656943e-02,\n",
       "         9.14636627e-03,  1.40186762e-02,  2.23156400e-02,\n",
       "         3.80159989e-02,  3.51204327e-03,  2.69309841e-02,\n",
       "        -9.66526289e-03,  9.40223504e-03,  1.30660105e-02,\n",
       "        -3.26755531e-02, -2.07484625e-02, -4.83370423e-02,\n",
       "         3.45595218e-02,  4.06770408e-02, -3.64129134e-02,\n",
       "         2.91351639e-02,  2.76248647e-06, -3.50669660e-02,\n",
       "        -4.29236256e-02, -3.27683315e-02, -5.78798167e-03,\n",
       "        -2.02988298e-03,  6.38602674e-02, -1.75834298e-02,\n",
       "         2.83530299e-02,  3.91860045e-02, -2.50785351e-02,\n",
       "        -3.98297571e-02,  3.53656374e-02,  4.60782386e-02,\n",
       "         3.96245383e-02,  4.09422964e-02, -1.85850840e-02,\n",
       "        -1.99039783e-02, -4.47335690e-02, -2.38404032e-02,\n",
       "         1.51267331e-02, -2.27665100e-02, -1.11450404e-02,\n",
       "         4.05117124e-02,  5.13322689e-02, -2.63612792e-02,\n",
       "         2.08785497e-02, -9.03030206e-03, -2.95640640e-02,\n",
       "        -5.17405383e-02,  5.76467812e-02,  3.88497710e-02,\n",
       "         1.11205019e-02, -3.61051261e-02,  7.12979631e-03,\n",
       "        -1.48945199e-02,  6.21213987e-02, -2.39951443e-02,\n",
       "        -2.38000080e-02,  3.36004198e-02,  5.66353975e-03,\n",
       "         4.19362523e-02,  2.15411349e-03,  4.33765836e-02,\n",
       "        -1.71116497e-02, -1.62514243e-02, -2.36672629e-02,\n",
       "         2.62200441e-02, -6.48208782e-02, -1.08614825e-02,\n",
       "         6.50006831e-02,  4.49802876e-02, -1.32104764e-02,\n",
       "        -7.08494894e-03,  5.42487167e-02,  3.37914117e-02,\n",
       "         1.12109467e-01, -5.68626598e-02,  2.03503110e-02,\n",
       "         2.58961180e-03, -1.90176442e-02, -3.75716761e-02,\n",
       "         1.94792077e-02, -4.83649373e-02,  6.26338273e-02,\n",
       "        -2.32799631e-02,  3.10909897e-02, -5.29242912e-03,\n",
       "         4.83638272e-02,  5.09647727e-02, -9.96912248e-04,\n",
       "        -6.80669909e-04,  5.46170250e-02,  1.20863272e-02,\n",
       "        -3.86503004e-02,  2.10655704e-02, -4.40730751e-02,\n",
       "        -1.13021408e-03, -9.68215056e-03,  4.06014584e-02,\n",
       "        -7.58991810e-03, -6.96681580e-03, -4.25470285e-02,\n",
       "         1.06561212e-02,  2.83980102e-04,  4.54619229e-02,\n",
       "         6.88904226e-02,  5.42664379e-02,  7.96206295e-03,\n",
       "         2.01244801e-02, -4.69410531e-02, -5.29960841e-02,\n",
       "        -3.85336503e-02,  5.05010076e-02, -3.66277173e-02,\n",
       "         5.83160818e-02,  6.37843693e-03,  3.06043141e-02,\n",
       "         3.86343598e-02, -9.38296504e-03,  2.24478487e-02,\n",
       "         2.98464112e-02,  3.35400999e-02, -1.22696804e-02,\n",
       "        -7.16289058e-02, -1.86987910e-02, -6.58500893e-03,\n",
       "        -2.78563090e-02, -6.15637712e-02, -4.26893272e-02,\n",
       "        -4.60506789e-02,  1.34530885e-03, -3.24010514e-02,\n",
       "         1.46637354e-02,  2.26007935e-04, -5.15598163e-04,\n",
       "        -1.42928492e-02,  2.31490890e-03, -5.17479219e-02,\n",
       "         7.50714494e-03,  3.55049521e-02,  1.99368242e-02,\n",
       "         4.56825495e-02, -1.60924904e-02, -5.75693361e-02,\n",
       "         5.97878657e-02,  3.10246404e-02, -1.57970246e-02,\n",
       "         3.44967283e-02, -1.40012754e-02, -6.37043715e-02,\n",
       "        -4.09863181e-02,  1.02462508e-02,  2.60357615e-02,\n",
       "        -6.56827465e-02, -3.95477675e-02,  7.69918691e-03,\n",
       "         9.78466868e-03, -1.68829542e-02,  5.20433187e-02,\n",
       "         5.91560602e-02,  1.45524954e-02,  4.01890129e-02,\n",
       "         3.14789377e-02, -1.00025674e-03,  1.38774281e-03,\n",
       "         1.49218775e-02, -9.09335017e-02,  6.72059553e-03,\n",
       "         4.96913195e-02, -8.35359562e-03, -1.28981220e-02,\n",
       "        -6.33769631e-02,  2.83810068e-02, -3.40315811e-02,\n",
       "        -3.69757749e-02, -3.19322497e-02,  2.19114125e-03,\n",
       "        -4.44605313e-02, -1.77245925e-03,  2.29377784e-02,\n",
       "         1.41856633e-02, -4.25136127e-02, -4.28228155e-02,\n",
       "        -1.10004954e-02, -3.98200676e-02, -4.03855778e-02,\n",
       "        -2.18717530e-02,  3.33515108e-02,  1.08247511e-01,\n",
       "         2.05316525e-02, -3.67606916e-02, -9.09283466e-04,\n",
       "        -5.49315773e-02, -4.68419865e-02,  2.30479166e-02,\n",
       "         1.29566249e-02, -2.22261902e-02, -6.76973686e-02,\n",
       "        -1.26856342e-02, -3.80988717e-02, -2.37461701e-02,\n",
       "         2.71690004e-02, -1.97075959e-02,  2.35469285e-02,\n",
       "         8.27841163e-02,  3.39882635e-03, -2.25305669e-02,\n",
       "        -1.11804539e-02,  1.60572343e-02,  4.76136729e-02,\n",
       "        -2.35339757e-02, -2.14243541e-03, -8.89232382e-03,\n",
       "         1.59186535e-02,  4.92052697e-02,  3.88089917e-03,\n",
       "         2.91994568e-02,  2.15582512e-02,  1.68978591e-02,\n",
       "        -5.93197010e-02,  3.09042372e-02,  9.74649638e-02,\n",
       "         3.24090943e-02, -2.05909200e-02, -3.08294166e-02,\n",
       "        -8.34711269e-03,  2.56992429e-02, -9.12969280e-03,\n",
       "         2.17355974e-02,  7.97798391e-03, -1.56305209e-02,\n",
       "         1.06546562e-02, -2.22084951e-02,  1.08175958e-02,\n",
       "        -2.24192757e-02,  3.10338312e-03,  6.61336584e-03,\n",
       "         5.23136929e-02,  3.65903601e-02,  2.58418750e-02,\n",
       "        -7.00649470e-02, -9.83752310e-02,  9.82601754e-03,\n",
       "        -2.30790824e-02, -1.50590464e-02, -2.92830486e-02,\n",
       "        -4.95667867e-02,  8.34824238e-03, -1.54819256e-02,\n",
       "         4.93919775e-02, -6.12797290e-02,  2.73692962e-02,\n",
       "        -7.73125663e-02, -2.56248843e-02,  7.13663036e-03,\n",
       "         1.25791039e-02,  2.27004513e-02, -5.73587976e-03,\n",
       "        -1.17307799e-02, -2.41224226e-02,  5.21731796e-04,\n",
       "        -2.74579711e-02, -4.78214165e-03, -2.15756595e-02,\n",
       "         1.47293406e-02,  9.84049402e-03,  1.21430331e-03,\n",
       "        -3.22482027e-02,  1.21255908e-02, -8.36893078e-03,\n",
       "         3.42116319e-02,  7.18279332e-02, -7.95162767e-02,\n",
       "        -2.58826055e-02,  6.17672391e-02,  1.56861264e-02,\n",
       "        -1.40615720e-02,  2.97290664e-02, -3.72494459e-02,\n",
       "        -6.09645098e-02,  3.26742046e-02, -4.15730141e-02,\n",
       "         2.34510954e-02,  1.97313400e-03,  2.89660953e-02,\n",
       "         7.32526649e-03, -2.26346916e-03,  3.49604003e-02,\n",
       "        -9.49725229e-03,  1.24599307e-03,  3.22452635e-02,\n",
       "         4.54959348e-02, -3.66401812e-03,  1.47810737e-02,\n",
       "        -3.11399549e-02,  2.63803937e-02,  1.55385351e-02,\n",
       "         1.97024457e-02,  1.80164948e-02,  5.27973892e-03,\n",
       "        -1.79264729e-03, -2.55187061e-02, -3.35396565e-02,\n",
       "         8.05394072e-03,  4.76864390e-02,  1.18042585e-02,\n",
       "        -4.74494174e-02,  2.36405097e-02,  1.25591448e-02,\n",
       "         4.39411886e-02, -9.35923457e-02, -9.79130268e-02,\n",
       "        -7.35325459e-03,  6.40609190e-02, -4.43807691e-02,\n",
       "         2.10087504e-02, -4.88706715e-02, -3.77525501e-02,\n",
       "         1.77295357e-02, -1.83409974e-02,  5.99148795e-02,\n",
       "        -1.58084147e-02, -4.59082015e-02, -1.12118861e-02,\n",
       "         2.40375474e-02, -7.23134214e-03,  1.71850086e-03,\n",
       "        -2.35276483e-02,  9.90232453e-03, -2.96682660e-02,\n",
       "         3.31845204e-03,  5.57552651e-02,  1.67889874e-02,\n",
       "        -5.42006716e-02,  4.56151329e-02,  4.76598321e-03,\n",
       "         5.85625917e-02,  2.74343486e-03, -2.55934056e-02,\n",
       "         4.19188067e-02, -7.35328766e-04, -1.23620695e-02,\n",
       "        -5.64828701e-02, -1.09738344e-02, -4.37666439e-02,\n",
       "         2.06466997e-03,  2.43491065e-02, -2.14958619e-02,\n",
       "        -2.57954262e-02, -2.91670524e-02, -8.22403561e-03,\n",
       "        -4.77948878e-03, -6.81785941e-02, -1.64304711e-02,\n",
       "        -4.24135849e-02, -3.80460434e-02, -3.90161760e-02,\n",
       "         3.03442348e-02,  4.99815308e-02,  3.51000540e-02,\n",
       "        -5.79931214e-02, -1.06239719e-02,  3.19494270e-02,\n",
       "        -9.14745405e-02,  3.16349342e-02,  5.10610640e-02,\n",
       "        -5.64727075e-02,  3.27477418e-02, -1.37747172e-02,\n",
       "         2.52081677e-02, -2.80869808e-02, -4.31393757e-02,\n",
       "        -1.70394238e-02, -7.19193667e-02,  6.20300546e-02,\n",
       "        -3.03030182e-02, -3.68149504e-02, -7.64828175e-02,\n",
       "        -3.73420976e-02, -2.57814806e-02, -5.49040549e-02,\n",
       "        -4.41865139e-02,  1.32541149e-03, -3.63287739e-02,\n",
       "         2.38151290e-02,  1.22735137e-02, -6.95956647e-02,\n",
       "        -2.48570535e-02,  5.15355133e-02, -3.03477980e-02,\n",
       "        -4.52570879e-04,  6.01523109e-02,  1.74025353e-02,\n",
       "        -4.12895754e-02,  9.00856219e-03, -1.47709316e-02,\n",
       "        -1.44595234e-02,  5.93235809e-03, -1.53932730e-02,\n",
       "         1.07936062e-01, -2.86327805e-02,  3.06407269e-02,\n",
       "         1.65483821e-02,  2.15135757e-02, -5.82911931e-02,\n",
       "         3.24937478e-02,  5.22537306e-02,  3.75311896e-02,\n",
       "        -5.98777235e-02, -1.02612339e-02, -3.79425623e-02,\n",
       "         5.20978682e-02,  2.02689716e-03,  3.93917114e-02,\n",
       "        -2.66693495e-02, -4.17769738e-02, -2.84474734e-02,\n",
       "         2.05283873e-02,  1.00504430e-02,  2.35341955e-03,\n",
       "        -1.53262983e-03,  1.40030691e-02, -2.66628228e-02,\n",
       "        -7.21932799e-02, -9.04936641e-02, -2.86465716e-02,\n",
       "         6.24502674e-02,  2.60387659e-02, -1.83964579e-03,\n",
       "         5.40605560e-03, -4.42421362e-02,  3.07242246e-03,\n",
       "        -4.83447947e-02, -3.10901534e-02,  5.05271107e-02,\n",
       "         5.28895818e-02, -3.64974774e-02,  7.09634088e-03,\n",
       "         3.46508040e-03,  4.67078052e-02, -2.43499931e-02,\n",
       "        -4.53609675e-02,  1.15117030e-02,  2.04422791e-02,\n",
       "        -1.63454060e-02,  1.01577798e-02,  3.62047106e-02,\n",
       "        -4.30132002e-02, -3.65615822e-02, -2.69782357e-02,\n",
       "         4.35418002e-02,  2.25222744e-02, -6.12444319e-02,\n",
       "        -2.47259736e-02, -2.75286585e-02, -7.10021425e-03,\n",
       "        -1.42663326e-02, -2.13905834e-02, -3.29067223e-02,\n",
       "         3.72336209e-02, -2.83328490e-03, -2.84887478e-02,\n",
       "         3.98028456e-02, -1.66990906e-02,  4.21740226e-02,\n",
       "         3.80488597e-02, -4.73246630e-03,  4.04254645e-02,\n",
       "        -1.03931082e-02, -3.01876869e-02,  9.08115506e-03,\n",
       "        -1.22377677e-02, -2.83070039e-02, -2.23386846e-02,\n",
       "         5.91560919e-03,  1.12547865e-02,  1.09096069e-03,\n",
       "        -7.78738456e-03,  6.31995946e-02, -8.11745971e-03,\n",
       "         8.29135068e-03, -3.86399925e-02,  9.88611653e-02,\n",
       "         4.64717252e-03,  2.91326493e-02, -2.17357129e-02,\n",
       "        -2.50913389e-02, -1.69963893e-02, -5.21607623e-02,\n",
       "         1.44049875e-03,  3.71293575e-02,  1.23137946e-03,\n",
       "         2.86953952e-02, -5.08406274e-02, -8.19613971e-03,\n",
       "        -1.40356496e-02,  2.54670326e-02, -1.72060505e-02,\n",
       "        -6.22929819e-02, -2.02586800e-02,  3.33321355e-02,\n",
       "        -8.25370010e-03, -2.87689343e-02, -1.24897184e-02,\n",
       "        -6.60272986e-02,  7.76950177e-03, -2.74896761e-03,\n",
       "         1.50360269e-02, -1.42174447e-02,  4.75513525e-02,\n",
       "         1.16792126e-02,  3.16093378e-02, -4.14984114e-02,\n",
       "         1.11206006e-02,  6.81922883e-02,  4.68127662e-03,\n",
       "        -1.64611861e-02, -4.93751839e-02, -5.54722436e-02,\n",
       "        -3.20836380e-02, -3.76526196e-03,  3.05255372e-02,\n",
       "         3.47309560e-02, -1.14030857e-02, -3.02961338e-02,\n",
       "        -5.16885482e-02, -1.67722758e-02,  3.43939736e-02,\n",
       "        -3.18810949e-03,  4.85535013e-04,  1.85435135e-02,\n",
       "         1.21869538e-02,  7.12589398e-02,  3.79819311e-02,\n",
       "         2.03867052e-02, -3.63308787e-02, -1.86656117e-02,\n",
       "        -5.95778925e-03,  1.79812666e-02, -2.00583450e-02,\n",
       "        -7.21396402e-33,  1.77217890e-02, -8.87368619e-02,\n",
       "         1.82904638e-02,  2.44886614e-02,  2.73978766e-02,\n",
       "         2.05115955e-02, -3.72535596e-03,  9.81874578e-03,\n",
       "        -2.10799407e-02,  2.74978075e-02, -1.48980971e-02,\n",
       "         5.08551076e-02,  1.90515444e-02, -2.21853610e-02,\n",
       "         6.08151294e-02,  4.67677116e-02,  2.36471854e-02,\n",
       "        -9.57220886e-03,  9.08267871e-03, -1.15675824e-02,\n",
       "        -1.92077048e-02,  2.77721696e-02,  6.52259588e-02,\n",
       "        -6.16520606e-02,  2.64565311e-02,  7.21840784e-02,\n",
       "        -6.26760051e-02, -1.12251677e-02, -1.64032020e-02,\n",
       "         1.68458614e-02,  9.07648075e-03,  1.85366031e-02,\n",
       "         1.38699729e-02, -4.31852154e-02,  1.64114386e-02,\n",
       "        -2.34472286e-02, -3.46408412e-02, -2.36924496e-02,\n",
       "         4.74410690e-03, -1.01131862e-02,  9.75585263e-03,\n",
       "         1.40602235e-02,  6.18758127e-02, -2.04248037e-02,\n",
       "        -3.64683568e-02,  6.34277659e-03,  6.00363836e-02,\n",
       "        -3.53973918e-02,  1.46016600e-02, -7.85047635e-02,\n",
       "        -4.71388772e-02,  4.18228209e-02, -2.72553004e-02,\n",
       "         4.40288670e-02, -3.94716905e-03,  4.15857881e-02,\n",
       "        -1.22954166e-02,  1.64081960e-03, -8.74491110e-02,\n",
       "         1.91962123e-02, -7.44967256e-03,  5.92398876e-03,\n",
       "         3.91601138e-02, -2.63663828e-02, -5.84734185e-03,\n",
       "         4.01721746e-02, -3.96566018e-02,  8.97734612e-03,\n",
       "         1.57185365e-02,  1.15182493e-02,  6.97650854e-03,\n",
       "         6.44346401e-02,  1.93590131e-02,  1.77528765e-02,\n",
       "        -2.59969588e-02, -8.82508978e-02, -2.09678020e-02,\n",
       "         5.08598387e-02,  3.89867760e-02,  3.33139189e-02,\n",
       "         1.90260652e-02, -2.44063791e-02, -2.97035221e-02,\n",
       "         3.27467639e-03,  6.67010993e-02, -1.74413528e-02,\n",
       "        -2.36484986e-02, -2.63448549e-03, -7.16632092e-03,\n",
       "         2.83157788e-02, -1.06724650e-02, -2.88510080e-02,\n",
       "        -6.70467839e-02, -1.42941736e-02,  3.65581103e-02,\n",
       "         1.68047827e-02, -2.37375949e-04,  3.56119461e-02,\n",
       "         1.61602547e-05, -3.41163017e-02, -4.16135415e-02,\n",
       "         3.64499614e-02, -3.34001333e-02,  1.28514841e-02,\n",
       "         5.18962834e-03, -3.12653631e-02,  2.79054921e-02,\n",
       "        -3.70882172e-03, -7.53933564e-02, -2.61886651e-03,\n",
       "         5.02364710e-02,  4.52296026e-02,  1.89143103e-02,\n",
       "         1.30968345e-02, -4.11753729e-02, -1.51280435e-02,\n",
       "         4.25165184e-02,  1.74607877e-02,  3.02484129e-02,\n",
       "         3.86479050e-02, -5.54317795e-03, -2.10602153e-02,\n",
       "         2.70773526e-02, -5.13868891e-02, -3.63038480e-02,\n",
       "        -1.82503201e-02,  2.14821100e-02, -2.10828036e-02,\n",
       "         4.41721193e-02, -4.28604754e-03, -1.16097620e-02,\n",
       "         1.41586550e-02,  3.40779081e-07,  8.14910680e-02,\n",
       "         4.45955470e-02, -3.43828239e-02, -3.12373694e-02,\n",
       "         2.78862156e-02,  1.72256902e-02,  2.93813739e-02,\n",
       "        -1.30030569e-02, -2.60947738e-03, -1.56103484e-02,\n",
       "         2.78702341e-02, -3.62465829e-02,  2.89378054e-02,\n",
       "         3.64868529e-02, -4.41090278e-02, -4.78077307e-02,\n",
       "        -1.36611657e-02, -5.30043617e-02, -5.24725318e-02,\n",
       "        -1.28208031e-03,  4.00683992e-02,  6.92350864e-02,\n",
       "         5.76798581e-02, -2.27617472e-02, -2.89841955e-05,\n",
       "        -5.18987887e-02, -2.42836811e-02, -3.18891518e-02,\n",
       "         7.05220690e-03,  1.39758419e-02,  4.84951027e-02,\n",
       "         1.15645002e-03, -2.42692921e-02,  5.44763841e-02,\n",
       "        -5.56602925e-02,  9.56191309e-03,  3.94703588e-03,\n",
       "         3.51211168e-02, -1.64445601e-02,  6.54507205e-02,\n",
       "         5.25678843e-02, -9.35020745e-02,  5.31536229e-02,\n",
       "        -5.27687892e-02,  4.66510504e-02,  1.33820595e-02,\n",
       "        -2.72282362e-02, -2.91718692e-02, -4.48946953e-02,\n",
       "        -3.45757119e-02,  4.37769853e-02,  1.90691953e-03,\n",
       "        -2.65977867e-02, -1.62166147e-03,  3.12827644e-03,\n",
       "        -2.92640924e-02, -3.20601314e-02,  2.09341082e-03,\n",
       "         5.44651970e-02,  8.17253888e-02, -1.28022814e-03,\n",
       "        -3.71775255e-02,  3.02962177e-02, -2.79305736e-03,\n",
       "         5.35086542e-02, -1.43370274e-02,  3.28302123e-02,\n",
       "         4.10160928e-34,  2.49634646e-02, -7.57152215e-03,\n",
       "        -1.22488597e-02, -1.98439360e-02,  3.71396802e-02,\n",
       "        -1.69537321e-03,  6.21322216e-03, -1.50715029e-02,\n",
       "        -1.84125286e-02, -2.43924931e-02, -1.71399843e-02]], dtype=float32)"
      ]
     },
     "execution_count": 31,
     "metadata": {},
     "output_type": "execute_result"
    }
   ],
   "source": [
    "embedding_model = SentenceTransformer(model_name_or_path=\"all-mpnet-base-v2\",\n",
    "                                      device=device)\n",
    "\n",
    "# Sentences are encode/embedded by calling model.encode()\n",
    "embeddings = embedding_model.encode(df['Resume'])\n",
    "# embeddings_dict = dict(zip(sentences, embeddings))\n",
    "embeddings[:1]"
   ]
  },
  {
   "cell_type": "code",
   "execution_count": 32,
   "id": "231093c8-3784-4234-96fd-e90ee0a132d6",
   "metadata": {},
   "outputs": [
    {
     "data": {
      "text/plain": [
       "(962, 768)"
      ]
     },
     "execution_count": 32,
     "metadata": {},
     "output_type": "execute_result"
    }
   ],
   "source": [
    "embeddings.shape"
   ]
  },
  {
   "cell_type": "code",
   "execution_count": 35,
   "id": "422e72b2-96db-40db-a2dc-8f23bd5b7995",
   "metadata": {},
   "outputs": [
    {
     "data": {
      "text/plain": [
       "array([ 6,  6,  6,  6,  6,  6,  6,  6,  6,  6,  6,  6,  6,  6,  6,  6,  6,\n",
       "        6,  6,  6,  6,  6,  6,  6,  6,  6,  6,  6,  6,  6,  6,  6,  6,  6,\n",
       "        6,  6,  6,  6,  6,  6, 12, 12, 12, 12, 12, 12, 12, 12, 12, 12, 12,\n",
       "       12, 12, 12, 12, 12, 12, 12, 12, 12, 12, 12, 12, 12, 12, 12, 12, 12,\n",
       "       12, 12, 12, 12, 12, 12, 12, 12, 12, 12, 12, 12, 12, 12, 12, 12,  0,\n",
       "        0,  0,  0,  0,  0,  0,  0,  0,  0,  0,  0,  0,  0,  0,  0,  0,  0,\n",
       "        0,  0,  1,  1,  1,  1,  1,  1,  1,  1,  1,  1,  1,  1,  1,  1,  1,\n",
       "        1,  1,  1,  1,  1,  1,  1,  1,  1,  1,  1,  1,  1,  1,  1,  1,  1,\n",
       "        1,  1,  1,  1, 24, 24, 24, 24, 24, 24, 24, 24, 24, 24, 24, 24, 24,\n",
       "       24, 24, 24, 24, 24, 24, 24, 24, 24, 24, 24, 24, 24, 24, 24, 24, 24,\n",
       "       24, 24, 24, 24, 24, 24, 24, 24, 24, 24, 24, 24, 24, 24, 24, 16, 16,\n",
       "       16, 16, 16, 16, 16, 16, 16, 16, 16, 16, 16, 16, 16, 16, 16, 16, 16,\n",
       "       16, 16, 16, 16, 16, 16, 16, 16, 16, 16, 16, 16, 16, 16, 16, 16, 16,\n",
       "       16, 16, 16, 16, 22, 22, 22, 22, 22, 22, 22, 22, 22, 22, 22, 22, 22,\n",
       "       22, 22, 22, 22, 22, 22, 22, 22, 22, 22, 22, 22, 22, 22, 22, 22, 22,\n",
       "       22, 22, 22, 22, 22, 22, 22, 22, 22, 22, 14, 14, 14, 14, 14, 14, 14,\n",
       "       14, 14, 14, 14, 14, 14, 14, 14, 14, 14, 14, 14, 14, 14, 14, 14, 14,\n",
       "       14, 14, 14, 14, 14, 14,  5,  5,  5,  5,  5,  5,  5,  5,  5,  5,  5,\n",
       "        5,  5,  5,  5,  5,  5,  5,  5,  5,  5,  5,  5,  5, 15, 15, 15, 15,\n",
       "       15, 15, 15, 15, 15, 15, 15, 15, 15, 15, 15, 15, 15, 15, 15, 15, 15,\n",
       "       15, 15, 15, 15, 15, 15, 15, 15, 15, 15, 15, 15, 15, 15, 15, 15, 15,\n",
       "       15, 15, 15, 15, 15, 15, 15, 15, 15, 15, 15, 15, 15, 15, 15, 15, 15,\n",
       "       15, 15, 15, 15, 15, 15, 15, 15, 15, 15, 15, 15, 15, 15, 15, 15, 15,\n",
       "       15, 15, 15, 15, 15, 15, 15, 15, 15, 15, 15, 15,  4,  4,  4,  4,  4,\n",
       "        4,  4,  4,  4,  4,  4,  4,  4,  4,  4,  4,  4,  4,  4,  4,  4,  4,\n",
       "        4,  4,  4,  4,  4,  4, 21, 21, 21, 21, 21, 21, 21, 21, 21, 21, 21,\n",
       "       21, 21, 21, 21, 21, 21, 21, 21, 21, 21, 21, 21, 21,  2,  2,  2,  2,\n",
       "        2,  2,  2,  2,  2,  2,  2,  2,  2,  2,  2,  2,  2,  2,  2,  2,  2,\n",
       "        2,  2,  2,  2,  2, 11, 11, 11, 11, 11, 11, 11, 11, 11, 11, 11, 11,\n",
       "       11, 11, 11, 11, 11, 11, 11, 11, 11, 11, 11, 11, 11, 11, 11, 11, 11,\n",
       "       11, 18, 18, 18, 18, 18, 18, 18, 18, 18, 18, 18, 18, 18, 18, 18, 18,\n",
       "       18, 18, 18, 18, 18, 18, 18, 18, 18, 18, 18, 18, 18, 18, 18, 18, 18,\n",
       "       18, 18, 18, 18, 18, 18, 18, 20, 20, 20, 20, 20, 20, 20, 20, 20, 20,\n",
       "       20, 20, 20, 20, 20, 20, 20, 20, 20, 20, 20, 20, 20, 20, 20, 20, 20,\n",
       "       20, 20, 20, 20, 20, 20, 20, 20, 20, 20, 20, 20, 20, 20, 20, 20, 20,\n",
       "       20, 20, 20, 20,  8,  8,  8,  8,  8,  8,  8,  8,  8,  8,  8,  8,  8,\n",
       "        8,  8,  8,  8,  8,  8,  8,  8,  8,  8,  8,  8,  8,  8,  8,  8,  8,\n",
       "        8,  8,  8,  8,  8,  8,  8,  8,  8,  8,  8,  8,  8,  8,  8,  8,  8,\n",
       "        8,  8,  8,  8,  8,  8,  8,  8, 17, 17, 17, 17, 17, 17, 17, 17, 17,\n",
       "       17, 17, 17, 17, 17, 17, 17, 17, 17, 17, 17, 17, 17, 17, 17, 17, 19,\n",
       "       19, 19, 19, 19, 19, 19, 19, 19, 19, 19, 19, 19, 19, 19, 19, 19, 19,\n",
       "       19, 19, 19, 19, 19, 19, 19, 19, 19, 19, 19, 19,  7,  7,  7,  7,  7,\n",
       "        7,  7,  7,  7,  7,  7,  7,  7,  7,  7,  7,  7,  7,  7,  7,  7,  7,\n",
       "        7,  7,  7,  7,  7,  7,  7,  7,  7,  7,  7, 13, 13, 13, 13, 13, 13,\n",
       "       13, 13, 13, 13, 13, 13, 13, 13, 13, 13, 13, 13, 13, 13, 13, 13, 13,\n",
       "       13, 13, 13, 13, 13, 13, 13, 13, 13, 13, 13, 13, 13, 13, 13, 13, 13,\n",
       "       13, 13, 10, 10, 10, 10, 10, 10, 10, 10, 10, 10, 10, 10, 10, 10, 10,\n",
       "       10, 10, 10, 10, 10, 10, 10, 10, 10, 10, 10, 10, 10, 10, 10, 10, 10,\n",
       "       10, 10, 10, 10, 10, 10, 10, 10,  9,  9,  9,  9,  9,  9,  9,  9,  9,\n",
       "        9,  9,  9,  9,  9,  9,  9,  9,  9,  9,  9,  9,  9,  9,  9,  9,  9,\n",
       "        9,  9,  3,  3,  3,  3,  3,  3,  3,  3,  3,  3,  3,  3,  3,  3,  3,\n",
       "        3,  3,  3,  3,  3,  3,  3,  3,  3,  3,  3,  3,  3,  3,  3,  3,  3,\n",
       "        3,  3,  3,  3,  3,  3,  3,  3, 23, 23, 23, 23, 23, 23, 23, 23, 23,\n",
       "       23, 23, 23, 23, 23, 23, 23, 23, 23, 23, 23, 23, 23, 23, 23, 23, 23,\n",
       "       23, 23, 23, 23, 23, 23, 23, 23, 23, 23, 23, 23, 23, 23, 23, 23, 23,\n",
       "       23, 23, 23, 23, 23, 23, 23, 23, 23, 23, 23, 23, 23, 23, 23, 23, 23,\n",
       "       23, 23, 23, 23, 23, 23, 23, 23, 23, 23])"
      ]
     },
     "execution_count": 35,
     "metadata": {},
     "output_type": "execute_result"
    }
   ],
   "source": [
    "df['labels'].values"
   ]
  },
  {
   "cell_type": "code",
   "execution_count": 36,
   "id": "636f9897-2d7f-4015-ba77-2336465978a6",
   "metadata": {},
   "outputs": [],
   "source": [
    "X, y = embeddings, df['labels'].values\n",
    "X_train, X_test, y_train, y_test = train_test_split(X, y, test_size=0.2, shuffle=True)"
   ]
  },
  {
   "cell_type": "code",
   "execution_count": 61,
   "id": "3138e3c3-4269-4a9c-874e-7c7c532f904d",
   "metadata": {},
   "outputs": [
    {
     "data": {
      "text/plain": [
       "25"
      ]
     },
     "execution_count": 61,
     "metadata": {},
     "output_type": "execute_result"
    }
   ],
   "source": [
    "len(df['labels'].unique())"
   ]
  },
  {
   "cell_type": "code",
   "execution_count": 45,
   "id": "c0380024-2baf-49e5-85f0-bc9d778b7be9",
   "metadata": {},
   "outputs": [
    {
     "data": {
      "text/plain": [
       "CV_Classificator(\n",
       "  (seq): Sequential(\n",
       "    (0): Linear(in_features=768, out_features=256, bias=True)\n",
       "    (1): ReLU()\n",
       "    (2): Linear(in_features=256, out_features=256, bias=True)\n",
       "    (3): ReLU()\n",
       "    (4): Linear(in_features=256, out_features=25, bias=True)\n",
       "  )\n",
       ")"
      ]
     },
     "execution_count": 45,
     "metadata": {},
     "output_type": "execute_result"
    }
   ],
   "source": [
    "class CV_Classificator(nn.Module):\n",
    "    def __init__(self, input_layer: int, hidden_layer: int, output_layer: int):\n",
    "        super().__init__()\n",
    "\n",
    "        self.seq = nn.Sequential(\n",
    "            nn.Linear(in_features=input_layer,\n",
    "                      out_features=hidden_layer),\n",
    "            nn.ReLU(),\n",
    "            nn.Linear(in_features=hidden_layer,\n",
    "                      out_features=hidden_layer),\n",
    "            nn.ReLU(),\n",
    "            nn.Linear(in_features=hidden_layer,\n",
    "                      out_features=output_layer)\n",
    "        )\n",
    "\n",
    "    def forward(self, x):\n",
    "        x = self.seq(x)\n",
    "        return x\n",
    "\n",
    "model_cv = CV_Classificator(input_layer=768, hidden_layer=256, output_layer=len(df['labels'].unique()))\n",
    "model_cv.to(device)"
   ]
  },
  {
   "cell_type": "code",
   "execution_count": 46,
   "id": "8cdd93e6-4389-418b-97ae-d56f079665b1",
   "metadata": {},
   "outputs": [
    {
     "data": {
      "text/plain": [
       "OrderedDict([('seq.0.weight',\n",
       "              tensor([[ 0.0296, -0.0184, -0.0007,  ...,  0.0135, -0.0111, -0.0193],\n",
       "                      [ 0.0235, -0.0070, -0.0021,  ..., -0.0104, -0.0291,  0.0147],\n",
       "                      [-0.0008, -0.0103, -0.0221,  ..., -0.0307, -0.0045, -0.0055],\n",
       "                      ...,\n",
       "                      [-0.0331,  0.0180,  0.0034,  ..., -0.0270,  0.0246, -0.0210],\n",
       "                      [ 0.0315, -0.0155, -0.0254,  ..., -0.0183,  0.0111,  0.0245],\n",
       "                      [ 0.0069,  0.0194,  0.0214,  ..., -0.0114,  0.0114, -0.0012]],\n",
       "                     device='cuda:0')),\n",
       "             ('seq.0.bias',\n",
       "              tensor([-8.9867e-03,  3.2230e-02, -1.2412e-02,  3.2205e-02,  1.6155e-02,\n",
       "                      -1.5757e-02, -9.5822e-03, -9.0757e-03, -3.0210e-02,  1.2345e-02,\n",
       "                       1.6377e-02,  2.6814e-02,  3.0337e-02,  1.0144e-02, -2.6017e-02,\n",
       "                      -1.7719e-02, -2.9343e-02,  1.3652e-02,  2.3439e-02, -2.4102e-02,\n",
       "                       3.4287e-03,  2.1499e-02,  2.9575e-02,  4.7578e-03, -6.1454e-03,\n",
       "                      -1.5568e-02,  1.1627e-02, -3.0812e-02, -1.1271e-03, -1.4056e-02,\n",
       "                       4.5295e-03,  1.8023e-02,  4.7820e-04,  2.4699e-02, -3.1007e-02,\n",
       "                      -3.7409e-03,  1.9368e-03, -1.9542e-03,  9.8249e-03,  2.5568e-02,\n",
       "                       1.7699e-02, -1.2177e-02, -2.1204e-02,  4.7125e-03,  9.4292e-03,\n",
       "                      -1.6457e-02, -9.5626e-03,  2.9215e-02,  1.1184e-02, -1.4446e-03,\n",
       "                       1.7524e-02,  2.0904e-02,  3.3776e-02, -1.4623e-02,  2.3280e-02,\n",
       "                       2.6378e-02,  2.5327e-02, -2.4540e-02,  3.3076e-02, -9.0165e-03,\n",
       "                      -2.4585e-02,  2.8617e-03, -1.9567e-02,  2.1037e-02,  2.6316e-02,\n",
       "                      -1.1813e-02, -9.3903e-03, -7.7587e-03,  2.7910e-02,  1.2477e-02,\n",
       "                       1.5035e-02, -3.5904e-02, -2.3417e-05, -3.7645e-03,  3.3724e-02,\n",
       "                       2.4724e-02, -1.6895e-02,  4.7601e-03,  2.5485e-02, -2.2821e-02,\n",
       "                      -2.1429e-02, -4.3429e-03,  2.8563e-02, -2.4881e-03, -2.6125e-03,\n",
       "                      -2.5929e-03, -2.4532e-03, -3.2367e-02,  9.9743e-03,  3.1969e-03,\n",
       "                       3.4422e-02, -3.7538e-03,  2.8719e-02, -1.8732e-02,  6.0389e-03,\n",
       "                      -2.5875e-02,  2.1117e-02, -7.6000e-04,  2.2865e-02,  2.0215e-02,\n",
       "                      -7.0823e-03, -1.7346e-02,  3.5051e-02, -4.6257e-03, -2.4660e-02,\n",
       "                       2.9126e-02,  3.5401e-02, -2.2828e-02, -2.2858e-02, -2.8280e-02,\n",
       "                       3.0932e-02, -7.1232e-03, -7.3030e-03,  9.5899e-03,  4.4654e-03,\n",
       "                      -3.4047e-02,  2.1263e-02, -2.0214e-02, -2.3319e-02,  1.1850e-02,\n",
       "                       3.3251e-02, -3.0193e-02, -1.8507e-02, -2.1576e-02, -2.1546e-02,\n",
       "                      -6.5782e-03, -3.0028e-02, -2.7698e-02, -7.2882e-03, -3.6978e-03,\n",
       "                      -2.0641e-02, -8.5020e-03,  2.9523e-02,  2.6884e-03, -1.8886e-04,\n",
       "                       3.1666e-02,  3.4626e-02,  1.9335e-02, -1.9893e-03,  3.5895e-02,\n",
       "                      -1.2688e-02,  6.1304e-04, -1.6218e-02,  5.8980e-03,  2.7570e-02,\n",
       "                      -1.5527e-02,  1.7759e-02,  1.1494e-02,  1.6740e-02, -9.2031e-03,\n",
       "                       2.4585e-02,  8.2599e-03,  1.6299e-04,  7.4590e-03,  3.3579e-02,\n",
       "                       1.7373e-02, -2.7146e-02,  3.1285e-02, -7.7444e-03, -3.1596e-03,\n",
       "                       9.5432e-03,  2.5892e-02,  1.1213e-02, -3.6798e-03, -2.9497e-02,\n",
       "                      -1.5744e-02, -1.7225e-02,  3.2892e-02,  3.7532e-03, -8.2050e-03,\n",
       "                       3.0238e-02, -3.5656e-03, -2.9957e-03, -2.5233e-02, -3.2998e-03,\n",
       "                       1.5564e-02, -2.0065e-02, -1.0303e-02, -8.7417e-04, -1.2157e-02,\n",
       "                       1.4555e-02, -1.4266e-02, -8.3141e-04,  1.3647e-02, -3.4399e-02,\n",
       "                       1.2981e-02,  1.6682e-02,  1.5411e-02, -1.4319e-02, -5.2120e-03,\n",
       "                       2.4934e-02, -3.4227e-02, -6.3361e-04, -2.0976e-02,  3.2036e-03,\n",
       "                       2.9468e-02,  1.5974e-02,  1.1233e-03, -8.5363e-03,  1.3580e-02,\n",
       "                      -1.8055e-02,  2.0248e-02,  5.3523e-03,  2.5879e-02,  2.6457e-02,\n",
       "                      -3.0690e-02, -2.9703e-02,  3.5942e-02, -3.2033e-02,  3.2480e-02,\n",
       "                      -2.6723e-02,  3.1330e-03, -3.3531e-03,  2.5571e-02, -1.6889e-02,\n",
       "                      -1.8617e-02,  1.9956e-02, -5.2038e-03,  3.0014e-02,  2.3792e-02,\n",
       "                       1.7971e-02, -1.8898e-02,  4.6248e-03,  3.5752e-02, -3.5832e-02,\n",
       "                       3.6848e-04, -2.5518e-03,  3.2456e-02,  3.0187e-02,  2.6076e-02,\n",
       "                       2.1653e-02,  2.8778e-02,  2.6831e-03,  1.6893e-02, -3.2803e-02,\n",
       "                       7.9552e-03,  1.5798e-02,  4.8336e-03, -1.3598e-02, -2.9408e-02,\n",
       "                      -1.0696e-02, -1.0024e-02, -8.3348e-03,  2.3079e-02,  2.8057e-02,\n",
       "                      -2.3593e-02, -1.2307e-02,  1.7144e-02, -8.0679e-04,  6.6874e-03,\n",
       "                      -1.7756e-02,  3.0923e-02,  8.2224e-03,  1.1074e-02,  2.8111e-02,\n",
       "                       1.1162e-02], device='cuda:0')),\n",
       "             ('seq.2.weight',\n",
       "              tensor([[ 0.0519,  0.0114, -0.0481,  ...,  0.0105, -0.0501,  0.0102],\n",
       "                      [ 0.0242, -0.0120, -0.0405,  ...,  0.0127, -0.0018,  0.0604],\n",
       "                      [-0.0348, -0.0136,  0.0420,  ...,  0.0345,  0.0452,  0.0264],\n",
       "                      ...,\n",
       "                      [ 0.0514,  0.0087,  0.0530,  ..., -0.0013,  0.0348,  0.0004],\n",
       "                      [ 0.0595,  0.0117,  0.0248,  ...,  0.0587,  0.0430, -0.0391],\n",
       "                      [ 0.0243,  0.0593, -0.0433,  ...,  0.0026,  0.0328,  0.0549]],\n",
       "                     device='cuda:0')),\n",
       "             ('seq.2.bias',\n",
       "              tensor([-2.7335e-02, -4.0024e-02,  2.3432e-03, -5.9133e-02, -2.7336e-02,\n",
       "                       4.2913e-02,  4.9613e-02,  5.0416e-02,  1.8801e-02, -5.7219e-02,\n",
       "                      -2.2368e-02, -3.8247e-02, -2.8646e-02,  2.3631e-02, -5.4545e-02,\n",
       "                      -5.6025e-02, -1.6375e-02,  4.6594e-02,  4.8294e-02, -5.4315e-02,\n",
       "                       5.5187e-02,  5.3641e-02,  2.2883e-02, -1.7249e-02, -3.2805e-02,\n",
       "                       2.5009e-03,  5.4715e-02,  5.6059e-02,  4.0919e-02, -2.0837e-02,\n",
       "                       3.4092e-02, -4.0474e-02,  4.5731e-02,  4.6313e-02, -6.0748e-03,\n",
       "                      -3.3667e-02,  6.6799e-03, -1.9826e-02,  3.6084e-02, -4.5111e-02,\n",
       "                      -2.3295e-02, -3.1969e-02,  2.2281e-02, -5.2920e-02,  3.3021e-02,\n",
       "                       1.6261e-02,  1.6549e-02,  3.0681e-02,  5.5231e-02,  7.1791e-03,\n",
       "                       4.6099e-03,  4.6441e-02, -1.5710e-02,  9.8897e-03, -4.2795e-02,\n",
       "                       1.0822e-02,  1.2376e-02,  6.0287e-02, -4.9422e-02,  8.3634e-03,\n",
       "                      -1.9146e-02, -6.2083e-02,  2.3687e-03, -5.5192e-02, -2.8183e-02,\n",
       "                      -4.3884e-02,  1.8198e-02, -5.9535e-03, -7.1028e-03,  1.8711e-02,\n",
       "                      -4.8806e-02, -5.3623e-02, -2.6744e-02, -4.3797e-02, -2.7050e-02,\n",
       "                      -3.7547e-02, -2.6689e-02, -1.7478e-02,  8.9952e-03, -5.9707e-02,\n",
       "                       2.5762e-02, -4.8682e-02, -1.7202e-02,  1.9453e-02,  5.9432e-02,\n",
       "                      -4.6218e-02,  1.2363e-02,  1.3580e-02,  3.7039e-02,  4.9296e-02,\n",
       "                      -3.4131e-02, -3.7568e-02,  4.5042e-02, -1.2385e-02,  4.0794e-02,\n",
       "                      -5.1353e-02, -2.5520e-02,  2.1107e-02,  2.0122e-02, -3.1814e-02,\n",
       "                      -1.7005e-02, -5.3074e-02,  3.3752e-02,  1.4311e-02, -2.7096e-02,\n",
       "                       3.4444e-02,  4.5224e-02, -6.1533e-02,  4.6640e-02,  5.2958e-02,\n",
       "                      -5.8242e-02, -1.5722e-02,  3.2731e-02,  3.7134e-02,  2.1005e-02,\n",
       "                      -2.5718e-02,  5.1540e-03,  2.7416e-02,  2.3629e-02, -6.0564e-02,\n",
       "                      -2.6488e-02, -4.2765e-02,  3.4516e-02, -4.5896e-03, -6.1033e-02,\n",
       "                      -1.2393e-02, -1.6586e-02, -2.5278e-02, -1.6103e-02,  1.2487e-02,\n",
       "                       5.3039e-02,  3.6844e-02,  2.6920e-03, -5.8492e-02,  5.7281e-03,\n",
       "                      -1.8348e-02, -1.8875e-02, -3.1577e-03, -6.1956e-02,  2.3162e-02,\n",
       "                      -7.4223e-05,  2.1720e-02,  5.8112e-02,  1.1274e-02,  2.8518e-02,\n",
       "                       2.5431e-02,  5.6219e-02,  2.8054e-02, -4.7294e-02,  3.8987e-02,\n",
       "                      -6.1734e-02,  6.0014e-02, -4.1078e-02, -4.7085e-03,  4.9131e-02,\n",
       "                      -1.9010e-02,  3.3648e-02, -5.9562e-02,  6.3212e-03,  2.6059e-02,\n",
       "                      -2.8291e-02,  4.0623e-02, -3.4537e-02,  2.1880e-02, -5.1862e-02,\n",
       "                       4.9381e-02,  3.0493e-03, -2.6096e-02, -3.9026e-02,  5.7146e-02,\n",
       "                       4.3888e-02,  9.9003e-05,  3.7187e-02,  2.6455e-02,  6.0626e-03,\n",
       "                       3.3633e-02,  2.1130e-03,  2.2818e-02, -4.3863e-02,  3.4098e-02,\n",
       "                       3.0144e-02, -2.2218e-02, -5.2406e-02, -6.1896e-03,  2.3125e-02,\n",
       "                      -3.0885e-02,  5.5069e-02, -1.4629e-02,  4.6363e-02,  2.7254e-02,\n",
       "                      -3.9163e-02,  2.3988e-02,  2.8281e-03,  4.7282e-02,  6.0212e-02,\n",
       "                      -4.7221e-02, -3.2705e-02,  4.4649e-03,  1.8762e-02, -2.8238e-02,\n",
       "                      -1.5766e-02,  3.3268e-02,  4.7878e-02,  1.6379e-02, -2.2888e-02,\n",
       "                      -5.6929e-02, -5.6065e-02, -3.1238e-02,  2.9990e-02,  2.5362e-02,\n",
       "                      -1.0546e-02,  2.5963e-03,  1.0951e-02, -2.3097e-03, -3.9057e-02,\n",
       "                      -1.4133e-02,  4.3792e-02, -1.3802e-02,  5.1900e-02,  4.7333e-02,\n",
       "                       1.9099e-02,  3.7880e-02,  4.0810e-02, -2.4556e-02,  1.3900e-02,\n",
       "                       2.4743e-02,  1.1631e-02, -4.3071e-02, -1.3582e-02,  6.3846e-03,\n",
       "                       2.2393e-03, -4.8430e-02,  5.8556e-02, -4.6876e-02,  8.8611e-03,\n",
       "                      -4.0406e-02, -4.5674e-02,  5.6034e-02, -1.3966e-02, -4.4091e-02,\n",
       "                       5.7154e-02,  1.6460e-02,  4.3653e-02, -6.0619e-02,  5.6396e-02,\n",
       "                      -5.8352e-02, -5.1588e-03, -2.7981e-02,  5.5266e-02, -1.2012e-02,\n",
       "                      -5.3572e-03, -5.3500e-02, -4.3864e-02, -4.4511e-02,  1.8299e-02,\n",
       "                       4.3356e-02], device='cuda:0')),\n",
       "             ('seq.4.weight',\n",
       "              tensor([[-0.0232,  0.0170, -0.0421,  ...,  0.0130,  0.0469,  0.0052],\n",
       "                      [-0.0593,  0.0572, -0.0423,  ...,  0.0592,  0.0388,  0.0581],\n",
       "                      [ 0.0276,  0.0546, -0.0345,  ..., -0.0079, -0.0091,  0.0074],\n",
       "                      ...,\n",
       "                      [ 0.0595, -0.0011, -0.0297,  ..., -0.0440, -0.0077,  0.0458],\n",
       "                      [ 0.0524, -0.0598,  0.0535,  ..., -0.0407,  0.0399,  0.0447],\n",
       "                      [ 0.0447,  0.0152,  0.0183,  ...,  0.0469,  0.0084, -0.0291]],\n",
       "                     device='cuda:0')),\n",
       "             ('seq.4.bias',\n",
       "              tensor([ 0.0368, -0.0460,  0.0186,  0.0330, -0.0014,  0.0441, -0.0189, -0.0516,\n",
       "                       0.0044, -0.0061, -0.0479, -0.0571, -0.0251, -0.0570,  0.0266, -0.0109,\n",
       "                       0.0565,  0.0397, -0.0367,  0.0538,  0.0289,  0.0523, -0.0052,  0.0387,\n",
       "                       0.0293], device='cuda:0'))])"
      ]
     },
     "execution_count": 46,
     "metadata": {},
     "output_type": "execute_result"
    }
   ],
   "source": [
    "model_cv.state_dict()"
   ]
  },
  {
   "cell_type": "code",
   "execution_count": null,
   "id": "ff98557e-a958-4030-96cd-868046ad4229",
   "metadata": {},
   "outputs": [],
   "source": []
  },
  {
   "cell_type": "code",
   "execution_count": null,
   "id": "06b801bb-0ad7-49a8-b276-025a7af99d3a",
   "metadata": {},
   "outputs": [],
   "source": []
  },
  {
   "cell_type": "code",
   "execution_count": null,
   "id": "7c00af06-031f-4ce5-bcf6-4abb4bab6edd",
   "metadata": {},
   "outputs": [],
   "source": []
  },
  {
   "cell_type": "code",
   "execution_count": null,
   "id": "bda4df00-11bc-45b3-b3c3-565c2e97fea7",
   "metadata": {},
   "outputs": [],
   "source": []
  },
  {
   "cell_type": "code",
   "execution_count": null,
   "id": "6c385515-be0f-40c7-881e-e6126482b5c3",
   "metadata": {},
   "outputs": [],
   "source": []
  },
  {
   "cell_type": "code",
   "execution_count": null,
   "id": "5695842c-1aae-40bf-9fc2-9b86dfe51bca",
   "metadata": {},
   "outputs": [],
   "source": []
  },
  {
   "cell_type": "code",
   "execution_count": null,
   "id": "145bc36e-f04c-409f-9a1a-b5a2a48cd53f",
   "metadata": {},
   "outputs": [],
   "source": []
  },
  {
   "cell_type": "code",
   "execution_count": null,
   "id": "45c99f4e-8b63-4042-804f-25be025db119",
   "metadata": {},
   "outputs": [],
   "source": []
  },
  {
   "cell_type": "code",
   "execution_count": null,
   "id": "2e7d5799-0286-4a25-bea1-446f47a5f76e",
   "metadata": {},
   "outputs": [],
   "source": []
  },
  {
   "cell_type": "code",
   "execution_count": null,
   "id": "7647540d-2332-40e6-ad4e-e6bab7454575",
   "metadata": {},
   "outputs": [],
   "source": []
  },
  {
   "cell_type": "code",
   "execution_count": null,
   "id": "46bd41e7-41b4-4778-bcb9-30f370d010a7",
   "metadata": {},
   "outputs": [],
   "source": []
  },
  {
   "cell_type": "code",
   "execution_count": null,
   "id": "52f866f4-8f4d-4e3e-904d-dd7b4d092c0b",
   "metadata": {},
   "outputs": [],
   "source": []
  },
  {
   "cell_type": "code",
   "execution_count": null,
   "id": "1e2d41ee-78d2-4d52-b48a-fb86205a9be7",
   "metadata": {},
   "outputs": [],
   "source": []
  },
  {
   "cell_type": "code",
   "execution_count": null,
   "id": "950364de-3de7-4f5e-bc7e-ce5c35c5fc7b",
   "metadata": {},
   "outputs": [],
   "source": []
  },
  {
   "cell_type": "code",
   "execution_count": null,
   "id": "0867a19f-2614-4b44-a72a-a28de0896341",
   "metadata": {},
   "outputs": [],
   "source": []
  },
  {
   "cell_type": "code",
   "execution_count": null,
   "id": "af732784-9f07-478b-8d67-e2b9027e72e3",
   "metadata": {},
   "outputs": [],
   "source": []
  },
  {
   "cell_type": "code",
   "execution_count": null,
   "id": "f7c670bc-3ca0-450a-a30c-d63bcf62a0cc",
   "metadata": {},
   "outputs": [],
   "source": []
  },
  {
   "cell_type": "code",
   "execution_count": null,
   "id": "ccf2a706-3a06-4e46-9637-1c952c721a98",
   "metadata": {},
   "outputs": [],
   "source": []
  },
  {
   "cell_type": "code",
   "execution_count": null,
   "id": "8d0d0cc7-f371-4790-9448-c03503ceb165",
   "metadata": {},
   "outputs": [],
   "source": []
  },
  {
   "cell_type": "code",
   "execution_count": null,
   "id": "a08b1fed-8b75-495e-94b6-b600d212b20f",
   "metadata": {},
   "outputs": [],
   "source": []
  },
  {
   "cell_type": "code",
   "execution_count": null,
   "id": "e7995302-29d1-43c1-beac-60295d176fc9",
   "metadata": {},
   "outputs": [],
   "source": []
  },
  {
   "cell_type": "code",
   "execution_count": null,
   "id": "f859cf81-c903-487e-bca3-629756789006",
   "metadata": {},
   "outputs": [],
   "source": []
  },
  {
   "cell_type": "code",
   "execution_count": null,
   "id": "be6a1746-c754-4018-829f-4d6f62e14b1e",
   "metadata": {},
   "outputs": [],
   "source": []
  },
  {
   "cell_type": "code",
   "execution_count": null,
   "id": "3027bedd-8fc3-4af7-9229-bc89f7c41953",
   "metadata": {},
   "outputs": [],
   "source": []
  },
  {
   "cell_type": "code",
   "execution_count": null,
   "id": "dbafb052-299f-4901-a8c7-85434b9600d4",
   "metadata": {},
   "outputs": [],
   "source": []
  },
  {
   "cell_type": "code",
   "execution_count": null,
   "id": "fc0551f5-f6d8-4873-b6b2-9cf9e7ae5947",
   "metadata": {},
   "outputs": [],
   "source": []
  },
  {
   "cell_type": "code",
   "execution_count": null,
   "id": "17d3fd03-c08e-45f5-9110-17e1948d4294",
   "metadata": {},
   "outputs": [],
   "source": []
  },
  {
   "cell_type": "code",
   "execution_count": null,
   "id": "1de3d452-4a2d-40ae-98cf-3ffb43b8e40b",
   "metadata": {},
   "outputs": [],
   "source": []
  },
  {
   "cell_type": "code",
   "execution_count": null,
   "id": "992df1ae-dc25-4763-b933-1e2b90458260",
   "metadata": {},
   "outputs": [],
   "source": []
  },
  {
   "cell_type": "code",
   "execution_count": null,
   "id": "38e5a5c3-6d9c-4379-97f5-8f268176570a",
   "metadata": {},
   "outputs": [],
   "source": []
  },
  {
   "cell_type": "code",
   "execution_count": null,
   "id": "6a2a813b-d177-4d15-be0a-6c3b01e999af",
   "metadata": {},
   "outputs": [],
   "source": []
  },
  {
   "cell_type": "code",
   "execution_count": null,
   "id": "d2499740-1ad7-40e5-9ec9-a42dcdec70b6",
   "metadata": {},
   "outputs": [],
   "source": []
  },
  {
   "cell_type": "code",
   "execution_count": null,
   "id": "2a19e3b8-46fa-4312-9b79-e390947accd4",
   "metadata": {},
   "outputs": [],
   "source": []
  },
  {
   "cell_type": "code",
   "execution_count": null,
   "id": "6258140b-87cc-4802-8bb5-59688fdc9e6a",
   "metadata": {},
   "outputs": [],
   "source": []
  },
  {
   "cell_type": "code",
   "execution_count": null,
   "id": "46ea3ec4-860f-46d3-baae-e89fb79f4552",
   "metadata": {},
   "outputs": [],
   "source": []
  },
  {
   "cell_type": "code",
   "execution_count": null,
   "id": "fa16b6d2-fde1-4c97-aaff-9657409e84f0",
   "metadata": {},
   "outputs": [],
   "source": []
  },
  {
   "cell_type": "code",
   "execution_count": null,
   "id": "31fae017-dca6-42fb-8ccf-753cce6c2378",
   "metadata": {},
   "outputs": [],
   "source": []
  },
  {
   "cell_type": "code",
   "execution_count": null,
   "id": "a7b9c7d9-76dd-4729-bee6-8f2f0ee8e39c",
   "metadata": {},
   "outputs": [],
   "source": []
  },
  {
   "cell_type": "code",
   "execution_count": null,
   "id": "8e555981-6ea5-4fb6-b45a-7bf7e44bb17b",
   "metadata": {},
   "outputs": [],
   "source": []
  },
  {
   "cell_type": "code",
   "execution_count": null,
   "id": "143a45f4-347b-43ac-a18d-1d3c8652f5fc",
   "metadata": {},
   "outputs": [],
   "source": []
  },
  {
   "cell_type": "code",
   "execution_count": null,
   "id": "638e927b-2b87-4f13-afc3-9c21bbd3e964",
   "metadata": {},
   "outputs": [],
   "source": []
  },
  {
   "cell_type": "code",
   "execution_count": null,
   "id": "9124cdbe-54f2-44d0-87df-ee7fe4d64905",
   "metadata": {},
   "outputs": [],
   "source": []
  },
  {
   "cell_type": "code",
   "execution_count": null,
   "id": "d4b9d258-adf2-4bec-b826-9590533514cd",
   "metadata": {},
   "outputs": [],
   "source": []
  },
  {
   "cell_type": "code",
   "execution_count": null,
   "id": "65ad8acf-b5f1-4097-b36e-77140ae80760",
   "metadata": {},
   "outputs": [],
   "source": []
  },
  {
   "cell_type": "code",
   "execution_count": null,
   "id": "6ebeab08-e6e5-497c-add1-70c04395060e",
   "metadata": {},
   "outputs": [],
   "source": []
  },
  {
   "cell_type": "code",
   "execution_count": null,
   "id": "de8a2b38-1d4c-49ee-9a15-37d6c0c562d9",
   "metadata": {},
   "outputs": [],
   "source": []
  }
 ],
 "metadata": {
  "kernelspec": {
   "display_name": "Python 3 (ipykernel)",
   "language": "python",
   "name": "python3"
  },
  "language_info": {
   "codemirror_mode": {
    "name": "ipython",
    "version": 3
   },
   "file_extension": ".py",
   "mimetype": "text/x-python",
   "name": "python",
   "nbconvert_exporter": "python",
   "pygments_lexer": "ipython3",
   "version": "3.9.21"
  }
 },
 "nbformat": 4,
 "nbformat_minor": 5
}
